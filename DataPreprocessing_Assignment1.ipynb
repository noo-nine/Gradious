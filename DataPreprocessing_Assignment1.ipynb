{
 "cells": [
  {
   "cell_type": "code",
   "execution_count": 2,
   "id": "e0834126",
   "metadata": {},
   "outputs": [],
   "source": [
    "import pandas as pd\n",
    "import numpy as np\n",
    "import seaborn as sns\n",
    "import matplotlib.pyplot as plt"
   ]
  },
  {
   "cell_type": "code",
   "execution_count": 3,
   "id": "4161750e",
   "metadata": {},
   "outputs": [],
   "source": [
    "health = pd.read_csv('healthcare_datasets.csv')"
   ]
  },
  {
   "cell_type": "code",
   "execution_count": 4,
   "id": "2630390d",
   "metadata": {},
   "outputs": [
    {
     "data": {
      "text/html": [
       "<div>\n",
       "<style scoped>\n",
       "    .dataframe tbody tr th:only-of-type {\n",
       "        vertical-align: middle;\n",
       "    }\n",
       "\n",
       "    .dataframe tbody tr th {\n",
       "        vertical-align: top;\n",
       "    }\n",
       "\n",
       "    .dataframe thead th {\n",
       "        text-align: right;\n",
       "    }\n",
       "</style>\n",
       "<table border=\"1\" class=\"dataframe\">\n",
       "  <thead>\n",
       "    <tr style=\"text-align: right;\">\n",
       "      <th></th>\n",
       "      <th>Patient_ID</th>\n",
       "      <th>Age</th>\n",
       "      <th>Gender</th>\n",
       "      <th>Blood_Pressure</th>\n",
       "      <th>Cholesterol</th>\n",
       "      <th>Condition</th>\n",
       "    </tr>\n",
       "  </thead>\n",
       "  <tbody>\n",
       "    <tr>\n",
       "      <th>0</th>\n",
       "      <td>0f5343ac-b858-4726-b8e6-d0e5a7cd73ff</td>\n",
       "      <td>84</td>\n",
       "      <td>Male</td>\n",
       "      <td>95</td>\n",
       "      <td>157</td>\n",
       "      <td>Hypertension</td>\n",
       "    </tr>\n",
       "    <tr>\n",
       "      <th>1</th>\n",
       "      <td>ff6cbae7-14d6-486d-a03b-c174dce2b9c0</td>\n",
       "      <td>40</td>\n",
       "      <td>Male</td>\n",
       "      <td>163</td>\n",
       "      <td>285</td>\n",
       "      <td>NaN</td>\n",
       "    </tr>\n",
       "    <tr>\n",
       "      <th>2</th>\n",
       "      <td>cc32f20a-c701-4398-85cc-30cfe5e7a62a</td>\n",
       "      <td>72</td>\n",
       "      <td>Male</td>\n",
       "      <td>NAN</td>\n",
       "      <td>168</td>\n",
       "      <td>NaN</td>\n",
       "    </tr>\n",
       "    <tr>\n",
       "      <th>3</th>\n",
       "      <td>93c316b3-c2ff-42a9-9895-7ce3e3d6cd8a</td>\n",
       "      <td>39</td>\n",
       "      <td>Male</td>\n",
       "      <td>118</td>\n",
       "      <td>288</td>\n",
       "      <td>Diabetes</td>\n",
       "    </tr>\n",
       "    <tr>\n",
       "      <th>4</th>\n",
       "      <td>044838d9-29a8-46da-8d74-18705c8df5d7</td>\n",
       "      <td>28</td>\n",
       "      <td>Female</td>\n",
       "      <td>128</td>\n",
       "      <td>229</td>\n",
       "      <td>Diabetes</td>\n",
       "    </tr>\n",
       "  </tbody>\n",
       "</table>\n",
       "</div>"
      ],
      "text/plain": [
       "                             Patient_ID Age  Gender Blood_Pressure  \\\n",
       "0  0f5343ac-b858-4726-b8e6-d0e5a7cd73ff  84    Male             95   \n",
       "1  ff6cbae7-14d6-486d-a03b-c174dce2b9c0  40    Male            163   \n",
       "2  cc32f20a-c701-4398-85cc-30cfe5e7a62a  72    Male            NAN   \n",
       "3  93c316b3-c2ff-42a9-9895-7ce3e3d6cd8a  39    Male            118   \n",
       "4  044838d9-29a8-46da-8d74-18705c8df5d7  28  Female            128   \n",
       "\n",
       "  Cholesterol     Condition  \n",
       "0         157  Hypertension  \n",
       "1         285           NaN  \n",
       "2         168           NaN  \n",
       "3         288      Diabetes  \n",
       "4         229      Diabetes  "
      ]
     },
     "execution_count": 4,
     "metadata": {},
     "output_type": "execute_result"
    }
   ],
   "source": [
    "health.head()"
   ]
  },
  {
   "cell_type": "code",
   "execution_count": 5,
   "id": "ba3336a4",
   "metadata": {},
   "outputs": [],
   "source": [
    "# Condition \"None\" is imported as \"NaN\" in the pandas dataframe"
   ]
  },
  {
   "cell_type": "code",
   "execution_count": 6,
   "id": "b1c774af",
   "metadata": {},
   "outputs": [
    {
     "data": {
      "text/plain": [
       "(3021, 6)"
      ]
     },
     "execution_count": 6,
     "metadata": {},
     "output_type": "execute_result"
    }
   ],
   "source": [
    "health.shape"
   ]
  },
  {
   "cell_type": "markdown",
   "id": "ed69905d",
   "metadata": {},
   "source": [
    "## Removing Duplicates"
   ]
  },
  {
   "cell_type": "code",
   "execution_count": 7,
   "id": "25e32334",
   "metadata": {},
   "outputs": [
    {
     "data": {
      "text/plain": [
       "20"
      ]
     },
     "execution_count": 7,
     "metadata": {},
     "output_type": "execute_result"
    }
   ],
   "source": [
    "# total number of duplicates\n",
    "no_of_duplicates = int(health.duplicated().sum())\n",
    "no_of_duplicates"
   ]
  },
  {
   "cell_type": "code",
   "execution_count": 22,
   "id": "c937c0f8",
   "metadata": {},
   "outputs": [
    {
     "data": {
      "text/plain": [
       "(3001, 5)"
      ]
     },
     "execution_count": 22,
     "metadata": {},
     "output_type": "execute_result"
    }
   ],
   "source": [
    "health = health.drop_duplicates()\n",
    "health.shape"
   ]
  },
  {
   "cell_type": "code",
   "execution_count": 10,
   "id": "ed3d10db",
   "metadata": {},
   "outputs": [],
   "source": [
    "# removed 20 duplicate rows"
   ]
  },
  {
   "cell_type": "markdown",
   "id": "bc7037e7",
   "metadata": {},
   "source": [
    "## Handling Missing Values"
   ]
  },
  {
   "cell_type": "code",
   "execution_count": 11,
   "id": "4d724e55",
   "metadata": {},
   "outputs": [],
   "source": [
    "# Patient_ID is not required to train the model\n",
    "health = health.drop(columns = ['Patient_ID'])"
   ]
  },
  {
   "cell_type": "code",
   "execution_count": 12,
   "id": "69822015",
   "metadata": {},
   "outputs": [
    {
     "data": {
      "text/html": [
       "<div>\n",
       "<style scoped>\n",
       "    .dataframe tbody tr th:only-of-type {\n",
       "        vertical-align: middle;\n",
       "    }\n",
       "\n",
       "    .dataframe tbody tr th {\n",
       "        vertical-align: top;\n",
       "    }\n",
       "\n",
       "    .dataframe thead th {\n",
       "        text-align: right;\n",
       "    }\n",
       "</style>\n",
       "<table border=\"1\" class=\"dataframe\">\n",
       "  <thead>\n",
       "    <tr style=\"text-align: right;\">\n",
       "      <th></th>\n",
       "      <th>Age</th>\n",
       "      <th>Gender</th>\n",
       "      <th>Blood_Pressure</th>\n",
       "      <th>Cholesterol</th>\n",
       "      <th>Condition</th>\n",
       "    </tr>\n",
       "  </thead>\n",
       "  <tbody>\n",
       "    <tr>\n",
       "      <th>0</th>\n",
       "      <td>84</td>\n",
       "      <td>Male</td>\n",
       "      <td>95</td>\n",
       "      <td>157</td>\n",
       "      <td>Hypertension</td>\n",
       "    </tr>\n",
       "    <tr>\n",
       "      <th>1</th>\n",
       "      <td>40</td>\n",
       "      <td>Male</td>\n",
       "      <td>163</td>\n",
       "      <td>285</td>\n",
       "      <td>NaN</td>\n",
       "    </tr>\n",
       "    <tr>\n",
       "      <th>2</th>\n",
       "      <td>72</td>\n",
       "      <td>Male</td>\n",
       "      <td>NAN</td>\n",
       "      <td>168</td>\n",
       "      <td>NaN</td>\n",
       "    </tr>\n",
       "    <tr>\n",
       "      <th>3</th>\n",
       "      <td>39</td>\n",
       "      <td>Male</td>\n",
       "      <td>118</td>\n",
       "      <td>288</td>\n",
       "      <td>Diabetes</td>\n",
       "    </tr>\n",
       "    <tr>\n",
       "      <th>4</th>\n",
       "      <td>28</td>\n",
       "      <td>Female</td>\n",
       "      <td>128</td>\n",
       "      <td>229</td>\n",
       "      <td>Diabetes</td>\n",
       "    </tr>\n",
       "    <tr>\n",
       "      <th>5</th>\n",
       "      <td>60</td>\n",
       "      <td>Male</td>\n",
       "      <td>91</td>\n",
       "      <td>156</td>\n",
       "      <td>NaN</td>\n",
       "    </tr>\n",
       "    <tr>\n",
       "      <th>6</th>\n",
       "      <td>18</td>\n",
       "      <td>Female</td>\n",
       "      <td>117</td>\n",
       "      <td>119</td>\n",
       "      <td>NaN</td>\n",
       "    </tr>\n",
       "    <tr>\n",
       "      <th>7</th>\n",
       "      <td>45</td>\n",
       "      <td>Female</td>\n",
       "      <td>101</td>\n",
       "      <td>170</td>\n",
       "      <td>Hypertension</td>\n",
       "    </tr>\n",
       "    <tr>\n",
       "      <th>8</th>\n",
       "      <td>77</td>\n",
       "      <td>Female</td>\n",
       "      <td>99</td>\n",
       "      <td>278</td>\n",
       "      <td>Hypertension</td>\n",
       "    </tr>\n",
       "    <tr>\n",
       "      <th>9</th>\n",
       "      <td>90</td>\n",
       "      <td>Male</td>\n",
       "      <td>120</td>\n",
       "      <td>133</td>\n",
       "      <td>NaN</td>\n",
       "    </tr>\n",
       "    <tr>\n",
       "      <th>10</th>\n",
       "      <td>52</td>\n",
       "      <td>Female</td>\n",
       "      <td>114</td>\n",
       "      <td>118</td>\n",
       "      <td>Diabetes</td>\n",
       "    </tr>\n",
       "    <tr>\n",
       "      <th>11</th>\n",
       "      <td>90</td>\n",
       "      <td>NAN</td>\n",
       "      <td>170</td>\n",
       "      <td>130</td>\n",
       "      <td>Diabetes</td>\n",
       "    </tr>\n",
       "    <tr>\n",
       "      <th>12</th>\n",
       "      <td>18</td>\n",
       "      <td>Male</td>\n",
       "      <td>90</td>\n",
       "      <td>284</td>\n",
       "      <td>Diabetes</td>\n",
       "    </tr>\n",
       "    <tr>\n",
       "      <th>13</th>\n",
       "      <td>89</td>\n",
       "      <td>Male</td>\n",
       "      <td>172</td>\n",
       "      <td>159</td>\n",
       "      <td>Diabetes</td>\n",
       "    </tr>\n",
       "    <tr>\n",
       "      <th>14</th>\n",
       "      <td>18</td>\n",
       "      <td>Male</td>\n",
       "      <td>125</td>\n",
       "      <td>265</td>\n",
       "      <td>Diabetes</td>\n",
       "    </tr>\n",
       "  </tbody>\n",
       "</table>\n",
       "</div>"
      ],
      "text/plain": [
       "   Age  Gender Blood_Pressure Cholesterol     Condition\n",
       "0   84    Male             95         157  Hypertension\n",
       "1   40    Male            163         285           NaN\n",
       "2   72    Male            NAN         168           NaN\n",
       "3   39    Male            118         288      Diabetes\n",
       "4   28  Female            128         229      Diabetes\n",
       "5   60    Male             91         156           NaN\n",
       "6   18  Female            117         119           NaN\n",
       "7   45  Female            101         170  Hypertension\n",
       "8   77  Female             99         278  Hypertension\n",
       "9   90    Male            120         133           NaN\n",
       "10  52  Female            114         118      Diabetes\n",
       "11  90     NAN            170         130      Diabetes\n",
       "12  18    Male             90         284      Diabetes\n",
       "13  89    Male            172         159      Diabetes\n",
       "14  18    Male            125         265      Diabetes"
      ]
     },
     "execution_count": 12,
     "metadata": {},
     "output_type": "execute_result"
    }
   ],
   "source": [
    "health.head(15)"
   ]
  },
  {
   "cell_type": "code",
   "execution_count": 13,
   "id": "5f5e4f7e",
   "metadata": {},
   "outputs": [
    {
     "data": {
      "text/plain": [
       "['Hypertension', nan, 'Diabetes']"
      ]
     },
     "execution_count": 13,
     "metadata": {},
     "output_type": "execute_result"
    }
   ],
   "source": [
    "list(health['Condition'].unique())"
   ]
  },
  {
   "cell_type": "code",
   "execution_count": 14,
   "id": "faee4e22",
   "metadata": {},
   "outputs": [
    {
     "name": "stderr",
     "output_type": "stream",
     "text": [
      "C:\\Users\\Jakkala\\AppData\\Local\\Temp\\ipykernel_13876\\1721303609.py:1: FutureWarning: A value is trying to be set on a copy of a DataFrame or Series through chained assignment using an inplace method.\n",
      "The behavior will change in pandas 3.0. This inplace method will never work because the intermediate object on which we are setting values always behaves as a copy.\n",
      "\n",
      "For example, when doing 'df[col].method(value, inplace=True)', try using 'df.method({col: value}, inplace=True)' or df[col] = df[col].method(value) instead, to perform the operation inplace on the original object.\n",
      "\n",
      "\n",
      "  health['Condition'].fillna('No Condition', inplace = True)\n"
     ]
    }
   ],
   "source": [
    "health['Condition'].fillna('No Condition', inplace = True)"
   ]
  },
  {
   "cell_type": "code",
   "execution_count": 15,
   "id": "ab03fe05",
   "metadata": {},
   "outputs": [],
   "source": [
    "# there are missing values with \"NAN\" which is not considered as null"
   ]
  },
  {
   "cell_type": "code",
   "execution_count": 16,
   "id": "2ee846d2",
   "metadata": {},
   "outputs": [],
   "source": [
    "health.replace(\"NAN\", np.nan, inplace = True)"
   ]
  },
  {
   "cell_type": "code",
   "execution_count": 17,
   "id": "00119ac3",
   "metadata": {},
   "outputs": [
    {
     "data": {
      "text/plain": [
       "Age               2\n",
       "Gender            4\n",
       "Blood_Pressure    3\n",
       "Cholesterol       2\n",
       "Condition         0\n",
       "dtype: int64"
      ]
     },
     "execution_count": 17,
     "metadata": {},
     "output_type": "execute_result"
    }
   ],
   "source": [
    "health.isnull().sum()"
   ]
  },
  {
   "cell_type": "code",
   "execution_count": 18,
   "id": "1cec10b1",
   "metadata": {},
   "outputs": [
    {
     "data": {
      "text/plain": [
       "11"
      ]
     },
     "execution_count": 18,
     "metadata": {},
     "output_type": "execute_result"
    }
   ],
   "source": [
    "int(health.isnull().sum().sum())"
   ]
  },
  {
   "cell_type": "code",
   "execution_count": null,
   "id": "af44129a",
   "metadata": {},
   "outputs": [
    {
     "data": {
      "text/plain": [
       "0.3665444851716095"
      ]
     },
     "execution_count": 19,
     "metadata": {},
     "output_type": "execute_result"
    }
   ],
   "source": [
    "#percentage_missing = (health.isnull().sum().sum() / health.shape[0]) * 100\n",
    "#float(percentage_missing)"
   ]
  },
  {
   "cell_type": "code",
   "execution_count": null,
   "id": "42c16b2d",
   "metadata": {},
   "outputs": [],
   "source": [
    "# we need to impute the missing values"
   ]
  },
  {
   "cell_type": "code",
   "execution_count": 21,
   "id": "a2c529ce",
   "metadata": {},
   "outputs": [],
   "source": [
    "# Condition is a categorical column"
   ]
  }
 ],
 "metadata": {
  "kernelspec": {
   "display_name": "ml-env",
   "language": "python",
   "name": "python3"
  },
  "language_info": {
   "codemirror_mode": {
    "name": "ipython",
    "version": 3
   },
   "file_extension": ".py",
   "mimetype": "text/x-python",
   "name": "python",
   "nbconvert_exporter": "python",
   "pygments_lexer": "ipython3",
   "version": "3.10.16"
  }
 },
 "nbformat": 4,
 "nbformat_minor": 5
}
