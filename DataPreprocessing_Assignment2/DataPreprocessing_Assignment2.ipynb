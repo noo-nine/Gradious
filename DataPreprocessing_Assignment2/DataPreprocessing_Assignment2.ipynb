{
 "cells": [
  {
   "cell_type": "code",
   "execution_count": 476,
   "id": "0cfc8d62",
   "metadata": {},
   "outputs": [],
   "source": [
    "import pandas as pd \n",
    "import numpy as np \n",
    "import seaborn as sns \n",
    "import matplotlib.pyplot as plt "
   ]
  },
  {
   "cell_type": "markdown",
   "id": "0808da87",
   "metadata": {},
   "source": [
    "## Data Import"
   ]
  },
  {
   "cell_type": "code",
   "execution_count": 477,
   "id": "4e25af1b",
   "metadata": {},
   "outputs": [
    {
     "data": {
      "text/html": [
       "<div>\n",
       "<style scoped>\n",
       "    .dataframe tbody tr th:only-of-type {\n",
       "        vertical-align: middle;\n",
       "    }\n",
       "\n",
       "    .dataframe tbody tr th {\n",
       "        vertical-align: top;\n",
       "    }\n",
       "\n",
       "    .dataframe thead th {\n",
       "        text-align: right;\n",
       "    }\n",
       "</style>\n",
       "<table border=\"1\" class=\"dataframe\">\n",
       "  <thead>\n",
       "    <tr style=\"text-align: right;\">\n",
       "      <th></th>\n",
       "      <th>passenger_id</th>\n",
       "      <th>pclass</th>\n",
       "      <th>name</th>\n",
       "      <th>sex</th>\n",
       "      <th>age</th>\n",
       "      <th>sibsp</th>\n",
       "      <th>parch</th>\n",
       "      <th>ticket</th>\n",
       "      <th>fare</th>\n",
       "      <th>cabin</th>\n",
       "      <th>embarked</th>\n",
       "      <th>boat</th>\n",
       "      <th>body</th>\n",
       "      <th>home.dest</th>\n",
       "      <th>survived</th>\n",
       "    </tr>\n",
       "  </thead>\n",
       "  <tbody>\n",
       "    <tr>\n",
       "      <th>0</th>\n",
       "      <td>1216</td>\n",
       "      <td>3</td>\n",
       "      <td>Smyth, Miss. Julia</td>\n",
       "      <td>female</td>\n",
       "      <td>NaN</td>\n",
       "      <td>0</td>\n",
       "      <td>0</td>\n",
       "      <td>335432</td>\n",
       "      <td>7.7333</td>\n",
       "      <td>NaN</td>\n",
       "      <td>Q</td>\n",
       "      <td>13</td>\n",
       "      <td>NaN</td>\n",
       "      <td>NaN</td>\n",
       "      <td>1</td>\n",
       "    </tr>\n",
       "    <tr>\n",
       "      <th>1</th>\n",
       "      <td>699</td>\n",
       "      <td>3</td>\n",
       "      <td>Cacic, Mr. Luka</td>\n",
       "      <td>male</td>\n",
       "      <td>38.0</td>\n",
       "      <td>0</td>\n",
       "      <td>0</td>\n",
       "      <td>315089</td>\n",
       "      <td>8.6625</td>\n",
       "      <td>NaN</td>\n",
       "      <td>S</td>\n",
       "      <td>NaN</td>\n",
       "      <td>NaN</td>\n",
       "      <td>Croatia</td>\n",
       "      <td>0</td>\n",
       "    </tr>\n",
       "    <tr>\n",
       "      <th>2</th>\n",
       "      <td>1267</td>\n",
       "      <td>3</td>\n",
       "      <td>Van Impe, Mrs. Jean Baptiste (Rosalie Paula Go...</td>\n",
       "      <td>female</td>\n",
       "      <td>30.0</td>\n",
       "      <td>1</td>\n",
       "      <td>1</td>\n",
       "      <td>345773</td>\n",
       "      <td>24.1500</td>\n",
       "      <td>NaN</td>\n",
       "      <td>S</td>\n",
       "      <td>NaN</td>\n",
       "      <td>NaN</td>\n",
       "      <td>NaN</td>\n",
       "      <td>0</td>\n",
       "    </tr>\n",
       "    <tr>\n",
       "      <th>3</th>\n",
       "      <td>449</td>\n",
       "      <td>2</td>\n",
       "      <td>Hocking, Mrs. Elizabeth (Eliza Needs)</td>\n",
       "      <td>female</td>\n",
       "      <td>54.0</td>\n",
       "      <td>1</td>\n",
       "      <td>3</td>\n",
       "      <td>29105</td>\n",
       "      <td>23.0000</td>\n",
       "      <td>NaN</td>\n",
       "      <td>S</td>\n",
       "      <td>4</td>\n",
       "      <td>NaN</td>\n",
       "      <td>Cornwall / Akron, OH</td>\n",
       "      <td>1</td>\n",
       "    </tr>\n",
       "    <tr>\n",
       "      <th>4</th>\n",
       "      <td>576</td>\n",
       "      <td>2</td>\n",
       "      <td>Veal, Mr. James</td>\n",
       "      <td>male</td>\n",
       "      <td>40.0</td>\n",
       "      <td>0</td>\n",
       "      <td>0</td>\n",
       "      <td>28221</td>\n",
       "      <td>13.0000</td>\n",
       "      <td>NaN</td>\n",
       "      <td>S</td>\n",
       "      <td>NaN</td>\n",
       "      <td>NaN</td>\n",
       "      <td>Barre, Co Washington, VT</td>\n",
       "      <td>0</td>\n",
       "    </tr>\n",
       "    <tr>\n",
       "      <th>5</th>\n",
       "      <td>1083</td>\n",
       "      <td>3</td>\n",
       "      <td>Olsen, Mr. Henry Margido</td>\n",
       "      <td>male</td>\n",
       "      <td>28.0</td>\n",
       "      <td>0</td>\n",
       "      <td>0</td>\n",
       "      <td>C 4001</td>\n",
       "      <td>22.5250</td>\n",
       "      <td>NaN</td>\n",
       "      <td>S</td>\n",
       "      <td>NaN</td>\n",
       "      <td>173.0</td>\n",
       "      <td>NaN</td>\n",
       "      <td>0</td>\n",
       "    </tr>\n",
       "    <tr>\n",
       "      <th>6</th>\n",
       "      <td>898</td>\n",
       "      <td>3</td>\n",
       "      <td>Johnson, Mr. William Cahoone Jr</td>\n",
       "      <td>male</td>\n",
       "      <td>19.0</td>\n",
       "      <td>0</td>\n",
       "      <td>0</td>\n",
       "      <td>LINE</td>\n",
       "      <td>0.0000</td>\n",
       "      <td>NaN</td>\n",
       "      <td>S</td>\n",
       "      <td>NaN</td>\n",
       "      <td>NaN</td>\n",
       "      <td>NaN</td>\n",
       "      <td>0</td>\n",
       "    </tr>\n",
       "    <tr>\n",
       "      <th>7</th>\n",
       "      <td>560</td>\n",
       "      <td>2</td>\n",
       "      <td>Sinkkonen, Miss. Anna</td>\n",
       "      <td>female</td>\n",
       "      <td>30.0</td>\n",
       "      <td>0</td>\n",
       "      <td>0</td>\n",
       "      <td>250648</td>\n",
       "      <td>13.0000</td>\n",
       "      <td>NaN</td>\n",
       "      <td>S</td>\n",
       "      <td>10</td>\n",
       "      <td>NaN</td>\n",
       "      <td>Finland / Washington, DC</td>\n",
       "      <td>1</td>\n",
       "    </tr>\n",
       "    <tr>\n",
       "      <th>8</th>\n",
       "      <td>1079</td>\n",
       "      <td>3</td>\n",
       "      <td>Ohman, Miss. Velin</td>\n",
       "      <td>female</td>\n",
       "      <td>22.0</td>\n",
       "      <td>0</td>\n",
       "      <td>0</td>\n",
       "      <td>347085</td>\n",
       "      <td>7.7750</td>\n",
       "      <td>NaN</td>\n",
       "      <td>S</td>\n",
       "      <td>C</td>\n",
       "      <td>NaN</td>\n",
       "      <td>NaN</td>\n",
       "      <td>1</td>\n",
       "    </tr>\n",
       "    <tr>\n",
       "      <th>9</th>\n",
       "      <td>908</td>\n",
       "      <td>3</td>\n",
       "      <td>Jussila, Miss. Mari Aina</td>\n",
       "      <td>female</td>\n",
       "      <td>21.0</td>\n",
       "      <td>1</td>\n",
       "      <td>0</td>\n",
       "      <td>4137</td>\n",
       "      <td>9.8250</td>\n",
       "      <td>NaN</td>\n",
       "      <td>S</td>\n",
       "      <td>NaN</td>\n",
       "      <td>NaN</td>\n",
       "      <td>NaN</td>\n",
       "      <td>0</td>\n",
       "    </tr>\n",
       "  </tbody>\n",
       "</table>\n",
       "</div>"
      ],
      "text/plain": [
       "   passenger_id  pclass                                               name  \\\n",
       "0          1216       3                                 Smyth, Miss. Julia   \n",
       "1           699       3                                    Cacic, Mr. Luka   \n",
       "2          1267       3  Van Impe, Mrs. Jean Baptiste (Rosalie Paula Go...   \n",
       "3           449       2              Hocking, Mrs. Elizabeth (Eliza Needs)   \n",
       "4           576       2                                    Veal, Mr. James   \n",
       "5          1083       3                           Olsen, Mr. Henry Margido   \n",
       "6           898       3                    Johnson, Mr. William Cahoone Jr   \n",
       "7           560       2                              Sinkkonen, Miss. Anna   \n",
       "8          1079       3                                 Ohman, Miss. Velin   \n",
       "9           908       3                           Jussila, Miss. Mari Aina   \n",
       "\n",
       "      sex   age  sibsp  parch  ticket     fare cabin embarked boat   body  \\\n",
       "0  female   NaN      0      0  335432   7.7333   NaN        Q   13    NaN   \n",
       "1    male  38.0      0      0  315089   8.6625   NaN        S  NaN    NaN   \n",
       "2  female  30.0      1      1  345773  24.1500   NaN        S  NaN    NaN   \n",
       "3  female  54.0      1      3   29105  23.0000   NaN        S    4    NaN   \n",
       "4    male  40.0      0      0   28221  13.0000   NaN        S  NaN    NaN   \n",
       "5    male  28.0      0      0  C 4001  22.5250   NaN        S  NaN  173.0   \n",
       "6    male  19.0      0      0    LINE   0.0000   NaN        S  NaN    NaN   \n",
       "7  female  30.0      0      0  250648  13.0000   NaN        S   10    NaN   \n",
       "8  female  22.0      0      0  347085   7.7750   NaN        S    C    NaN   \n",
       "9  female  21.0      1      0    4137   9.8250   NaN        S  NaN    NaN   \n",
       "\n",
       "                  home.dest  survived  \n",
       "0                       NaN         1  \n",
       "1                   Croatia         0  \n",
       "2                       NaN         0  \n",
       "3      Cornwall / Akron, OH         1  \n",
       "4  Barre, Co Washington, VT         0  \n",
       "5                       NaN         0  \n",
       "6                       NaN         0  \n",
       "7  Finland / Washington, DC         1  \n",
       "8                       NaN         1  \n",
       "9                       NaN         0  "
      ]
     },
     "execution_count": 477,
     "metadata": {},
     "output_type": "execute_result"
    }
   ],
   "source": [
    "train = pd.read_csv('train.csv')\n",
    "train.head(10)"
   ]
  },
  {
   "cell_type": "markdown",
   "id": "6376b998",
   "metadata": {},
   "source": [
    "## Removing Columns That are not Useful"
   ]
  },
  {
   "cell_type": "code",
   "execution_count": 478,
   "id": "356399cd",
   "metadata": {},
   "outputs": [
    {
     "name": "stdout",
     "output_type": "stream",
     "text": [
      "<class 'pandas.core.frame.DataFrame'>\n",
      "RangeIndex: 850 entries, 0 to 849\n",
      "Data columns (total 15 columns):\n",
      " #   Column        Non-Null Count  Dtype  \n",
      "---  ------        --------------  -----  \n",
      " 0   passenger_id  850 non-null    int64  \n",
      " 1   pclass        850 non-null    int64  \n",
      " 2   name          850 non-null    object \n",
      " 3   sex           850 non-null    object \n",
      " 4   age           676 non-null    float64\n",
      " 5   sibsp         850 non-null    int64  \n",
      " 6   parch         850 non-null    int64  \n",
      " 7   ticket        850 non-null    object \n",
      " 8   fare          849 non-null    float64\n",
      " 9   cabin         191 non-null    object \n",
      " 10  embarked      849 non-null    object \n",
      " 11  boat          308 non-null    object \n",
      " 12  body          73 non-null     float64\n",
      " 13  home.dest     464 non-null    object \n",
      " 14  survived      850 non-null    int64  \n",
      "dtypes: float64(3), int64(5), object(7)\n",
      "memory usage: 99.7+ KB\n"
     ]
    }
   ],
   "source": [
    "train.info()"
   ]
  },
  {
   "cell_type": "code",
   "execution_count": 479,
   "id": "2fa8491a",
   "metadata": {},
   "outputs": [],
   "source": [
    "# The below columns cannot be useful features for prediction"
   ]
  },
  {
   "cell_type": "code",
   "execution_count": 480,
   "id": "205a2fac",
   "metadata": {},
   "outputs": [],
   "source": [
    "train.drop(columns = ['passenger_id', 'name', 'ticket', 'boat', 'body', 'home.dest'], inplace = True)"
   ]
  },
  {
   "cell_type": "markdown",
   "id": "4974434e",
   "metadata": {},
   "source": [
    "## Removing Duplicates"
   ]
  },
  {
   "cell_type": "code",
   "execution_count": 481,
   "id": "fd466079",
   "metadata": {},
   "outputs": [
    {
     "data": {
      "text/plain": [
       "(850, 9)"
      ]
     },
     "execution_count": 481,
     "metadata": {},
     "output_type": "execute_result"
    }
   ],
   "source": [
    "train.shape"
   ]
  },
  {
   "cell_type": "code",
   "execution_count": 482,
   "id": "eeab2f0a",
   "metadata": {},
   "outputs": [],
   "source": [
    "train.drop_duplicates(inplace = True)"
   ]
  },
  {
   "cell_type": "code",
   "execution_count": 483,
   "id": "a853bd31",
   "metadata": {},
   "outputs": [
    {
     "data": {
      "text/plain": [
       "(746, 9)"
      ]
     },
     "execution_count": 483,
     "metadata": {},
     "output_type": "execute_result"
    }
   ],
   "source": [
    "train.shape"
   ]
  },
  {
   "cell_type": "markdown",
   "id": "5f2ce43f",
   "metadata": {},
   "source": [
    "## Plots"
   ]
  },
  {
   "cell_type": "code",
   "execution_count": 484,
   "id": "2768be3f",
   "metadata": {},
   "outputs": [
    {
     "data": {
      "image/png": "[encoded data removed]",
      "text/plain": [
       "<Figure size 640x480 with 1 Axes>"
      ]
     },
     "metadata": {},
     "output_type": "display_data"
    }
   ],
   "source": [
    "sns.barplot(x = 'pclass', y = 'survived', data = train)\n",
    "plt.show()"
   ]
  },
  {
   "cell_type": "code",
   "execution_count": 485,
   "id": "21147946",
   "metadata": {},
   "outputs": [
    {
     "data": {
      "text/plain": [
       "<Axes: xlabel='survived', ylabel='fare'>"
      ]
     },
     "execution_count": 485,
     "metadata": {},
     "output_type": "execute_result"
    },
    {
     "data": {
      "image/png": "[encoded data removed]",
      "text/plain": [
       "<Figure size 640x480 with 1 Axes>"
      ]
     },
     "metadata": {},
     "output_type": "display_data"
    }
   ],
   "source": [
    "sns.boxplot(x = 'survived', y = 'fare', data = train)"
   ]
  },
  {
   "cell_type": "markdown",
   "id": "57f5eb1e",
   "metadata": {},
   "source": [
    "## Splitting the Data"
   ]
  },
  {
   "cell_type": "code",
   "execution_count": 486,
   "id": "f35a7412",
   "metadata": {},
   "outputs": [],
   "source": [
    "from sklearn.model_selection import train_test_split"
   ]
  },
  {
   "cell_type": "code",
   "execution_count": 487,
   "id": "185cc971",
   "metadata": {},
   "outputs": [],
   "source": [
    "x = train.drop(columns = ['survived'])\n",
    "y = train['survived']"
   ]
  },
  {
   "cell_type": "code",
   "execution_count": 488,
   "id": "5bb88d85",
   "metadata": {},
   "outputs": [],
   "source": [
    "x_train, x_test, y_train, y_test = train_test_split(x, y, test_size = 0.2)"
   ]
  },
  {
   "cell_type": "code",
   "execution_count": 489,
   "id": "69f94e77",
   "metadata": {},
   "outputs": [
    {
     "data": {
      "text/plain": [
       "(596, 8)"
      ]
     },
     "execution_count": 489,
     "metadata": {},
     "output_type": "execute_result"
    }
   ],
   "source": [
    "x_train.shape"
   ]
  },
  {
   "cell_type": "code",
   "execution_count": 490,
   "id": "27471100",
   "metadata": {},
   "outputs": [
    {
     "data": {
      "text/plain": [
       "(150, 8)"
      ]
     },
     "execution_count": 490,
     "metadata": {},
     "output_type": "execute_result"
    }
   ],
   "source": [
    "x_test.shape"
   ]
  },
  {
   "cell_type": "code",
   "execution_count": 491,
   "id": "65a8110c",
   "metadata": {},
   "outputs": [],
   "source": [
    "num_features_data = x_train[['age','sibsp','parch','fare']]"
   ]
  },
  {
   "cell_type": "markdown",
   "id": "18789e72",
   "metadata": {},
   "source": [
    "## Zero Variance"
   ]
  },
  {
   "cell_type": "code",
   "execution_count": 492,
   "id": "2c656100",
   "metadata": {},
   "outputs": [
    {
     "data": {
      "text/plain": [
       "Index(['age', 'sibsp', 'parch', 'fare'], dtype='object')"
      ]
     },
     "execution_count": 492,
     "metadata": {},
     "output_type": "execute_result"
    }
   ],
   "source": [
    "from sklearn.feature_selection import VarianceThreshold\n",
    "selector = VarianceThreshold(threshold=0.0)\n",
    "selector.fit(num_features_data)\n",
    "selected_features = num_features_data.columns[selector.get_support()]\n",
    "selected_features"
   ]
  },
  {
   "cell_type": "code",
   "execution_count": 493,
   "id": "7d123291",
   "metadata": {},
   "outputs": [],
   "source": [
    "# All features have variance greater than 0, we can use all of them"
   ]
  },
  {
   "cell_type": "markdown",
   "id": "8f089455",
   "metadata": {},
   "source": [
    "## High Correlation"
   ]
  },
  {
   "cell_type": "code",
   "execution_count": 494,
   "id": "5657a6e7",
   "metadata": {},
   "outputs": [
    {
     "data": {
      "image/png": "[encoded data removed]",
      "text/plain": [
       "<Figure size 640x480 with 2 Axes>"
      ]
     },
     "metadata": {},
     "output_type": "display_data"
    }
   ],
   "source": [
    "# checking for correlation among the features\n",
    "corr = num_features_data.corr()\n",
    "sns.heatmap(corr, annot = True)\n",
    "plt.show()"
   ]
  },
  {
   "cell_type": "code",
   "execution_count": 495,
   "id": "9ea11462",
   "metadata": {},
   "outputs": [],
   "source": [
    "# no features are highly correlated"
   ]
  },
  {
   "cell_type": "markdown",
   "id": "380db17c",
   "metadata": {},
   "source": [
    "## Handling Null Values"
   ]
  },
  {
   "cell_type": "code",
   "execution_count": 496,
   "id": "7b83f088",
   "metadata": {},
   "outputs": [
    {
     "data": {
      "text/plain": [
       "pclass        0\n",
       "sex           0\n",
       "age          89\n",
       "sibsp         0\n",
       "parch         0\n",
       "fare          0\n",
       "cabin       450\n",
       "embarked      1\n",
       "dtype: int64"
      ]
     },
     "execution_count": 496,
     "metadata": {},
     "output_type": "execute_result"
    }
   ],
   "source": [
    "x_train.isnull().sum()"
   ]
  },
  {
   "cell_type": "code",
   "execution_count": 497,
   "id": "fb3eb6cb",
   "metadata": {},
   "outputs": [
    {
     "data": {
      "text/plain": [
       "pclass        0\n",
       "sex           0\n",
       "age          14\n",
       "sibsp         0\n",
       "parch         0\n",
       "fare          1\n",
       "cabin       106\n",
       "embarked      0\n",
       "dtype: int64"
      ]
     },
     "execution_count": 497,
     "metadata": {},
     "output_type": "execute_result"
    }
   ],
   "source": [
    "x_test.isnull().sum()"
   ]
  },
  {
   "cell_type": "code",
   "execution_count": 498,
   "id": "0b678935",
   "metadata": {},
   "outputs": [
    {
     "name": "stdout",
     "output_type": "stream",
     "text": [
      "Missing values in cabin column: 75.50335570469798%\n"
     ]
    }
   ],
   "source": [
    "cabin_missing = (x_train['cabin'].isnull().sum()/x_train.shape[0]) * 100\n",
    "print(f\"Missing values in cabin column: {cabin_missing:}%\")"
   ]
  },
  {
   "cell_type": "code",
   "execution_count": 499,
   "id": "77bb7c7b",
   "metadata": {},
   "outputs": [],
   "source": [
    "# Hence it is better to drop the cabin column\n",
    "x_train.drop(columns = ['cabin'], inplace = True)\n",
    "x_test.drop(columns = ['cabin'], inplace = True)"
   ]
  },
  {
   "cell_type": "code",
   "execution_count": 500,
   "id": "53be28f8",
   "metadata": {},
   "outputs": [
    {
     "name": "stderr",
     "output_type": "stream",
     "text": [
      "C:\\Users\\Jakkala\\AppData\\Local\\Temp\\ipykernel_14224\\1206730277.py:2: FutureWarning: A value is trying to be set on a copy of a DataFrame or Series through chained assignment using an inplace method.\n",
      "The behavior will change in pandas 3.0. This inplace method will never work because the intermediate object on which we are setting values always behaves as a copy.\n",
      "\n",
      "For example, when doing 'df[col].method(value, inplace=True)', try using 'df.method({col: value}, inplace=True)' or df[col] = df[col].method(value) instead, to perform the operation inplace on the original object.\n",
      "\n",
      "\n",
      "  x_train['age'].fillna(x_train['age'].median(), inplace = True)\n",
      "C:\\Users\\Jakkala\\AppData\\Local\\Temp\\ipykernel_14224\\1206730277.py:3: FutureWarning: A value is trying to be set on a copy of a DataFrame or Series through chained assignment using an inplace method.\n",
      "The behavior will change in pandas 3.0. This inplace method will never work because the intermediate object on which we are setting values always behaves as a copy.\n",
      "\n",
      "For example, when doing 'df[col].method(value, inplace=True)', try using 'df.method({col: value}, inplace=True)' or df[col] = df[col].method(value) instead, to perform the operation inplace on the original object.\n",
      "\n",
      "\n",
      "  x_train['embarked'].fillna(x_train['embarked'].mode()[0], inplace = True)\n",
      "C:\\Users\\Jakkala\\AppData\\Local\\Temp\\ipykernel_14224\\1206730277.py:4: FutureWarning: A value is trying to be set on a copy of a DataFrame or Series through chained assignment using an inplace method.\n",
      "The behavior will change in pandas 3.0. This inplace method will never work because the intermediate object on which we are setting values always behaves as a copy.\n",
      "\n",
      "For example, when doing 'df[col].method(value, inplace=True)', try using 'df.method({col: value}, inplace=True)' or df[col] = df[col].method(value) instead, to perform the operation inplace on the original object.\n",
      "\n",
      "\n",
      "  x_train['fare'].fillna(x_train['fare'].mean(), inplace = True)\n",
      "C:\\Users\\Jakkala\\AppData\\Local\\Temp\\ipykernel_14224\\1206730277.py:5: FutureWarning: A value is trying to be set on a copy of a DataFrame or Series through chained assignment using an inplace method.\n",
      "The behavior will change in pandas 3.0. This inplace method will never work because the intermediate object on which we are setting values always behaves as a copy.\n",
      "\n",
      "For example, when doing 'df[col].method(value, inplace=True)', try using 'df.method({col: value}, inplace=True)' or df[col] = df[col].method(value) instead, to perform the operation inplace on the original object.\n",
      "\n",
      "\n",
      "  x_test['age'].fillna(x_test['age'].median(), inplace = True)\n",
      "C:\\Users\\Jakkala\\AppData\\Local\\Temp\\ipykernel_14224\\1206730277.py:6: FutureWarning: A value is trying to be set on a copy of a DataFrame or Series through chained assignment using an inplace method.\n",
      "The behavior will change in pandas 3.0. This inplace method will never work because the intermediate object on which we are setting values always behaves as a copy.\n",
      "\n",
      "For example, when doing 'df[col].method(value, inplace=True)', try using 'df.method({col: value}, inplace=True)' or df[col] = df[col].method(value) instead, to perform the operation inplace on the original object.\n",
      "\n",
      "\n",
      "  x_test['fare'].fillna(x_test['fare'].mean(), inplace = True)\n",
      "C:\\Users\\Jakkala\\AppData\\Local\\Temp\\ipykernel_14224\\1206730277.py:7: FutureWarning: A value is trying to be set on a copy of a DataFrame or Series through chained assignment using an inplace method.\n",
      "The behavior will change in pandas 3.0. This inplace method will never work because the intermediate object on which we are setting values always behaves as a copy.\n",
      "\n",
      "For example, when doing 'df[col].method(value, inplace=True)', try using 'df.method({col: value}, inplace=True)' or df[col] = df[col].method(value) instead, to perform the operation inplace on the original object.\n",
      "\n",
      "\n",
      "  x_test['embarked'].fillna(x_test['embarked'].mode()[0], inplace = True)\n"
     ]
    }
   ],
   "source": [
    "# Imputations\n",
    "x_train['age'].fillna(x_train['age'].median(), inplace = True)\n",
    "x_train['embarked'].fillna(x_train['embarked'].mode()[0], inplace = True)\n",
    "x_train['fare'].fillna(x_train['fare'].mean(), inplace = True)\n",
    "x_test['age'].fillna(x_test['age'].median(), inplace = True)\n",
    "x_test['fare'].fillna(x_test['fare'].mean(), inplace = True)\n",
    "x_test['embarked'].fillna(x_test['embarked'].mode()[0], inplace = True)"
   ]
  },
  {
   "cell_type": "markdown",
   "id": "77aa2782",
   "metadata": {},
   "source": [
    "## Handling Outliers"
   ]
  },
  {
   "cell_type": "code",
   "execution_count": 501,
   "id": "c3fa2a45",
   "metadata": {},
   "outputs": [],
   "source": [
    "num_features = ['age','sibsp','parch','fare']\n",
    "for feature in num_features:\n",
    "    q1 = x_train[feature].quantile(0.25)\n",
    "    q3 = x_train[feature].quantile(0.75)\n",
    "    iqr = q3 - q1\n",
    "    lower_bound = q1 - 1.5 * iqr\n",
    "    upper_bound = q3 + 1.5 * iqr\n",
    "    # capping outliers in training data\n",
    "    x_train[feature] = np.clip(x_train[feature], lower_bound, upper_bound)\n",
    "    y_train = y_train.loc[x_train.index]\n",
    "    # capping for outliers in test data\n",
    "    x_test[feature] = np.clip(x_test[feature], lower_bound, upper_bound)\n",
    "    y_test = y_test.loc[x_test.index]"
   ]
  },
  {
   "cell_type": "markdown",
   "id": "6fcca33b",
   "metadata": {},
   "source": [
    "## Data Transformation"
   ]
  },
  {
   "cell_type": "code",
   "execution_count": 504,
   "id": "4c6f5c6e",
   "metadata": {},
   "outputs": [
    {
     "name": "stdout",
     "output_type": "stream",
     "text": [
      "Skewness of age : 0.2509912509333384\n",
      "Skewness of sibsp : 1.4732996394036029\n",
      "Skewness of parch : 1.7360063953047424\n",
      "Skewness of fare : 1.007175368675389\n"
     ]
    }
   ],
   "source": [
    "# skewness\n",
    "for feature in num_features:\n",
    "    print(f\"Skewness of {feature} : {x_train[feature].skew()}\")"
   ]
  },
  {
   "cell_type": "code",
   "execution_count": 505,
   "id": "9af90ca0",
   "metadata": {},
   "outputs": [
    {
     "data": {
      "text/plain": [
       "<Axes: xlabel='age', ylabel='Count'>"
      ]
     },
     "execution_count": 505,
     "metadata": {},
     "output_type": "execute_result"
    },
    {
     "data": {
      "image/png": "[encoded data removed]",
      "text/plain": [
       "<Figure size 640x480 with 1 Axes>"
      ]
     },
     "metadata": {},
     "output_type": "display_data"
    }
   ],
   "source": [
    "sns.histplot(x_train['age'], kde = True)"
   ]
  },
  {
   "cell_type": "code",
   "execution_count": 506,
   "id": "a7042714",
   "metadata": {},
   "outputs": [
    {
     "data": {
      "text/plain": [
       "<Axes: xlabel='sibsp', ylabel='Count'>"
      ]
     },
     "execution_count": 506,
     "metadata": {},
     "output_type": "execute_result"
    },
    {
     "data": {
      "image/png": "[encoded data removed]",
      "text/plain": [
       "<Figure size 640x480 with 1 Axes>"
      ]
     },
     "metadata": {},
     "output_type": "display_data"
    }
   ],
   "source": [
    "sns.histplot(x_train['sibsp'], kde = True)"
   ]
  },
  {
   "cell_type": "code",
   "execution_count": 507,
   "id": "886d7a57",
   "metadata": {},
   "outputs": [
    {
     "data": {
      "text/plain": [
       "<Axes: xlabel='parch', ylabel='Count'>"
      ]
     },
     "execution_count": 507,
     "metadata": {},
     "output_type": "execute_result"
    },
    {
     "data": {
      "image/png": "[encoded data removed]",
      "text/plain": [
       "<Figure size 640x480 with 1 Axes>"
      ]
     },
     "metadata": {},
     "output_type": "display_data"
    }
   ],
   "source": [
    "sns.histplot(x_train['parch'], kde = True)"
   ]
  },
  {
   "cell_type": "code",
   "execution_count": 508,
   "id": "1c115d30",
   "metadata": {},
   "outputs": [
    {
     "data": {
      "text/plain": [
       "<Axes: xlabel='fare', ylabel='Count'>"
      ]
     },
     "execution_count": 508,
     "metadata": {},
     "output_type": "execute_result"
    },
    {
     "data": {
      "image/png": "[encoded data removed]",
      "text/plain": [
       "<Figure size 640x480 with 1 Axes>"
      ]
     },
     "metadata": {},
     "output_type": "display_data"
    }
   ],
   "source": [
    "sns.histplot(x_train['fare'], kde = True)"
   ]
  },
  {
   "cell_type": "code",
   "execution_count": 509,
   "id": "80bf9d1e",
   "metadata": {},
   "outputs": [],
   "source": [
    "# Transforming 'fare' feature\n",
    "x_train['fare'] = np.log1p(x_train['fare'])\n",
    "x_test['fare'] = np.log1p(x_test['fare'])"
   ]
  },
  {
   "cell_type": "code",
   "execution_count": 510,
   "id": "d78306d3",
   "metadata": {},
   "outputs": [
    {
     "data": {
      "text/plain": [
       "<Axes: xlabel='fare', ylabel='Count'>"
      ]
     },
     "execution_count": 510,
     "metadata": {},
     "output_type": "execute_result"
    },
    {
     "data": {
      "image/png": "[encoded data removed]",
      "text/plain": [
       "<Figure size 640x480 with 1 Axes>"
      ]
     },
     "metadata": {},
     "output_type": "display_data"
    }
   ],
   "source": [
    "sns.histplot(x_train['fare'], kde = True)"
   ]
  },
  {
   "cell_type": "code",
   "execution_count": 511,
   "id": "63a0b18a",
   "metadata": {},
   "outputs": [
    {
     "data": {
      "text/plain": [
       "np.float64(-0.19641423793209847)"
      ]
     },
     "execution_count": 511,
     "metadata": {},
     "output_type": "execute_result"
    }
   ],
   "source": [
    "x_train['fare'].skew()"
   ]
  },
  {
   "cell_type": "code",
   "execution_count": 512,
   "id": "e6cc71c8",
   "metadata": {},
   "outputs": [
    {
     "data": {
      "text/plain": [
       "np.float64(0.002211076277730061)"
      ]
     },
     "execution_count": 512,
     "metadata": {},
     "output_type": "execute_result"
    }
   ],
   "source": [
    "x_test['fare'].skew()"
   ]
  },
  {
   "cell_type": "markdown",
   "id": "491784bc",
   "metadata": {},
   "source": [
    "## Data Scaling"
   ]
  },
  {
   "cell_type": "code",
   "execution_count": 513,
   "id": "2d70bd2b",
   "metadata": {},
   "outputs": [],
   "source": [
    "from sklearn.preprocessing import StandardScaler\n",
    "scaler = StandardScaler()\n",
    "x_train[num_features] = scaler.fit_transform(x_train[num_features])\n",
    "x_test[num_features] = scaler.transform(x_test[num_features])"
   ]
  },
  {
   "cell_type": "code",
   "execution_count": 517,
   "id": "c0e332b4",
   "metadata": {},
   "outputs": [
    {
     "data": {
      "text/html": [
       "<div>\n",
       "<style scoped>\n",
       "    .dataframe tbody tr th:only-of-type {\n",
       "        vertical-align: middle;\n",
       "    }\n",
       "\n",
       "    .dataframe tbody tr th {\n",
       "        vertical-align: top;\n",
       "    }\n",
       "\n",
       "    .dataframe thead th {\n",
       "        text-align: right;\n",
       "    }\n",
       "</style>\n",
       "<table border=\"1\" class=\"dataframe\">\n",
       "  <thead>\n",
       "    <tr style=\"text-align: right;\">\n",
       "      <th></th>\n",
       "      <th>pclass</th>\n",
       "      <th>sex</th>\n",
       "      <th>age</th>\n",
       "      <th>sibsp</th>\n",
       "      <th>parch</th>\n",
       "      <th>fare</th>\n",
       "      <th>embarked</th>\n",
       "    </tr>\n",
       "  </thead>\n",
       "  <tbody>\n",
       "    <tr>\n",
       "      <th>390</th>\n",
       "      <td>2</td>\n",
       "      <td>female</td>\n",
       "      <td>-1.158903</td>\n",
       "      <td>0.810822</td>\n",
       "      <td>-0.529709</td>\n",
       "      <td>0.582285</td>\n",
       "      <td>C</td>\n",
       "    </tr>\n",
       "    <tr>\n",
       "      <th>839</th>\n",
       "      <td>1</td>\n",
       "      <td>male</td>\n",
       "      <td>1.289867</td>\n",
       "      <td>0.810822</td>\n",
       "      <td>-0.529709</td>\n",
       "      <td>1.415699</td>\n",
       "      <td>S</td>\n",
       "    </tr>\n",
       "    <tr>\n",
       "      <th>786</th>\n",
       "      <td>2</td>\n",
       "      <td>female</td>\n",
       "      <td>0.830723</td>\n",
       "      <td>-0.655794</td>\n",
       "      <td>-0.529709</td>\n",
       "      <td>-0.375510</td>\n",
       "      <td>S</td>\n",
       "    </tr>\n",
       "    <tr>\n",
       "      <th>381</th>\n",
       "      <td>1</td>\n",
       "      <td>male</td>\n",
       "      <td>-0.087566</td>\n",
       "      <td>-0.655794</td>\n",
       "      <td>-0.529709</td>\n",
       "      <td>0.617688</td>\n",
       "      <td>S</td>\n",
       "    </tr>\n",
       "    <tr>\n",
       "      <th>132</th>\n",
       "      <td>1</td>\n",
       "      <td>female</td>\n",
       "      <td>1.978584</td>\n",
       "      <td>-0.655794</td>\n",
       "      <td>-0.529709</td>\n",
       "      <td>0.487796</td>\n",
       "      <td>C</td>\n",
       "    </tr>\n",
       "    <tr>\n",
       "      <th>250</th>\n",
       "      <td>1</td>\n",
       "      <td>female</td>\n",
       "      <td>1.442915</td>\n",
       "      <td>0.810822</td>\n",
       "      <td>0.921815</td>\n",
       "      <td>1.522843</td>\n",
       "      <td>C</td>\n",
       "    </tr>\n",
       "    <tr>\n",
       "      <th>833</th>\n",
       "      <td>2</td>\n",
       "      <td>male</td>\n",
       "      <td>2.131632</td>\n",
       "      <td>-0.655794</td>\n",
       "      <td>-0.529709</td>\n",
       "      <td>-0.432627</td>\n",
       "      <td>Q</td>\n",
       "    </tr>\n",
       "    <tr>\n",
       "      <th>717</th>\n",
       "      <td>3</td>\n",
       "      <td>female</td>\n",
       "      <td>-0.087566</td>\n",
       "      <td>-0.655794</td>\n",
       "      <td>-0.529709</td>\n",
       "      <td>-1.014526</td>\n",
       "      <td>C</td>\n",
       "    </tr>\n",
       "    <tr>\n",
       "      <th>316</th>\n",
       "      <td>3</td>\n",
       "      <td>male</td>\n",
       "      <td>0.295054</td>\n",
       "      <td>-0.655794</td>\n",
       "      <td>-0.529709</td>\n",
       "      <td>-0.721140</td>\n",
       "      <td>S</td>\n",
       "    </tr>\n",
       "    <tr>\n",
       "      <th>599</th>\n",
       "      <td>3</td>\n",
       "      <td>female</td>\n",
       "      <td>-1.082379</td>\n",
       "      <td>0.810822</td>\n",
       "      <td>-0.529709</td>\n",
       "      <td>-0.256780</td>\n",
       "      <td>C</td>\n",
       "    </tr>\n",
       "  </tbody>\n",
       "</table>\n",
       "</div>"
      ],
      "text/plain": [
       "     pclass     sex       age     sibsp     parch      fare embarked\n",
       "390       2  female -1.158903  0.810822 -0.529709  0.582285        C\n",
       "839       1    male  1.289867  0.810822 -0.529709  1.415699        S\n",
       "786       2  female  0.830723 -0.655794 -0.529709 -0.375510        S\n",
       "381       1    male -0.087566 -0.655794 -0.529709  0.617688        S\n",
       "132       1  female  1.978584 -0.655794 -0.529709  0.487796        C\n",
       "250       1  female  1.442915  0.810822  0.921815  1.522843        C\n",
       "833       2    male  2.131632 -0.655794 -0.529709 -0.432627        Q\n",
       "717       3  female -0.087566 -0.655794 -0.529709 -1.014526        C\n",
       "316       3    male  0.295054 -0.655794 -0.529709 -0.721140        S\n",
       "599       3  female -1.082379  0.810822 -0.529709 -0.256780        C"
      ]
     },
     "execution_count": 517,
     "metadata": {},
     "output_type": "execute_result"
    }
   ],
   "source": [
    "x_train.head(10)"
   ]
  },
  {
   "cell_type": "code",
   "execution_count": 518,
   "id": "77872f9d",
   "metadata": {},
   "outputs": [
    {
     "data": {
      "text/html": [
       "<div>\n",
       "<style scoped>\n",
       "    .dataframe tbody tr th:only-of-type {\n",
       "        vertical-align: middle;\n",
       "    }\n",
       "\n",
       "    .dataframe tbody tr th {\n",
       "        vertical-align: top;\n",
       "    }\n",
       "\n",
       "    .dataframe thead th {\n",
       "        text-align: right;\n",
       "    }\n",
       "</style>\n",
       "<table border=\"1\" class=\"dataframe\">\n",
       "  <thead>\n",
       "    <tr style=\"text-align: right;\">\n",
       "      <th></th>\n",
       "      <th>pclass</th>\n",
       "      <th>sex</th>\n",
       "      <th>age</th>\n",
       "      <th>sibsp</th>\n",
       "      <th>parch</th>\n",
       "      <th>fare</th>\n",
       "      <th>embarked</th>\n",
       "    </tr>\n",
       "  </thead>\n",
       "  <tbody>\n",
       "    <tr>\n",
       "      <th>414</th>\n",
       "      <td>3</td>\n",
       "      <td>male</td>\n",
       "      <td>-0.470187</td>\n",
       "      <td>-0.655794</td>\n",
       "      <td>-0.529709</td>\n",
       "      <td>-0.753025</td>\n",
       "      <td>S</td>\n",
       "    </tr>\n",
       "    <tr>\n",
       "      <th>450</th>\n",
       "      <td>2</td>\n",
       "      <td>male</td>\n",
       "      <td>1.595964</td>\n",
       "      <td>0.810822</td>\n",
       "      <td>-0.529709</td>\n",
       "      <td>0.413566</td>\n",
       "      <td>S</td>\n",
       "    </tr>\n",
       "    <tr>\n",
       "      <th>182</th>\n",
       "      <td>2</td>\n",
       "      <td>male</td>\n",
       "      <td>-0.317138</td>\n",
       "      <td>-0.655794</td>\n",
       "      <td>-0.529709</td>\n",
       "      <td>-0.611843</td>\n",
       "      <td>S</td>\n",
       "    </tr>\n",
       "    <tr>\n",
       "      <th>178</th>\n",
       "      <td>1</td>\n",
       "      <td>male</td>\n",
       "      <td>0.065482</td>\n",
       "      <td>0.810822</td>\n",
       "      <td>2.373339</td>\n",
       "      <td>1.522843</td>\n",
       "      <td>S</td>\n",
       "    </tr>\n",
       "    <tr>\n",
       "      <th>89</th>\n",
       "      <td>3</td>\n",
       "      <td>male</td>\n",
       "      <td>0.677675</td>\n",
       "      <td>-0.655794</td>\n",
       "      <td>-0.529709</td>\n",
       "      <td>-1.040364</td>\n",
       "      <td>S</td>\n",
       "    </tr>\n",
       "    <tr>\n",
       "      <th>650</th>\n",
       "      <td>2</td>\n",
       "      <td>female</td>\n",
       "      <td>0.830723</td>\n",
       "      <td>-0.655794</td>\n",
       "      <td>-0.529709</td>\n",
       "      <td>-0.160044</td>\n",
       "      <td>S</td>\n",
       "    </tr>\n",
       "    <tr>\n",
       "      <th>444</th>\n",
       "      <td>1</td>\n",
       "      <td>female</td>\n",
       "      <td>1.902060</td>\n",
       "      <td>0.810822</td>\n",
       "      <td>0.921815</td>\n",
       "      <td>1.522843</td>\n",
       "      <td>S</td>\n",
       "    </tr>\n",
       "    <tr>\n",
       "      <th>594</th>\n",
       "      <td>2</td>\n",
       "      <td>male</td>\n",
       "      <td>-0.623235</td>\n",
       "      <td>-0.655794</td>\n",
       "      <td>-0.529709</td>\n",
       "      <td>-0.375510</td>\n",
       "      <td>S</td>\n",
       "    </tr>\n",
       "    <tr>\n",
       "      <th>722</th>\n",
       "      <td>3</td>\n",
       "      <td>female</td>\n",
       "      <td>-0.852807</td>\n",
       "      <td>-0.655794</td>\n",
       "      <td>-0.529709</td>\n",
       "      <td>-1.013912</td>\n",
       "      <td>C</td>\n",
       "    </tr>\n",
       "    <tr>\n",
       "      <th>493</th>\n",
       "      <td>3</td>\n",
       "      <td>female</td>\n",
       "      <td>-0.546711</td>\n",
       "      <td>-0.655794</td>\n",
       "      <td>-0.529709</td>\n",
       "      <td>-0.683130</td>\n",
       "      <td>S</td>\n",
       "    </tr>\n",
       "  </tbody>\n",
       "</table>\n",
       "</div>"
      ],
      "text/plain": [
       "     pclass     sex       age     sibsp     parch      fare embarked\n",
       "414       3    male -0.470187 -0.655794 -0.529709 -0.753025        S\n",
       "450       2    male  1.595964  0.810822 -0.529709  0.413566        S\n",
       "182       2    male -0.317138 -0.655794 -0.529709 -0.611843        S\n",
       "178       1    male  0.065482  0.810822  2.373339  1.522843        S\n",
       "89        3    male  0.677675 -0.655794 -0.529709 -1.040364        S\n",
       "650       2  female  0.830723 -0.655794 -0.529709 -0.160044        S\n",
       "444       1  female  1.902060  0.810822  0.921815  1.522843        S\n",
       "594       2    male -0.623235 -0.655794 -0.529709 -0.375510        S\n",
       "722       3  female -0.852807 -0.655794 -0.529709 -1.013912        C\n",
       "493       3  female -0.546711 -0.655794 -0.529709 -0.683130        S"
      ]
     },
     "execution_count": 518,
     "metadata": {},
     "output_type": "execute_result"
    }
   ],
   "source": [
    "x_test.head(10)"
   ]
  },
  {
   "cell_type": "markdown",
   "id": "317ba7a2",
   "metadata": {},
   "source": [
    "## One-Hot Encoding"
   ]
  },
  {
   "cell_type": "code",
   "execution_count": 521,
   "id": "64b10c0c",
   "metadata": {},
   "outputs": [],
   "source": [
    "x_train = pd.get_dummies(x_train, columns = ['pclass', 'sex', 'embarked'], drop_first = True)\n",
    "x_test = pd.get_dummies(x_test, columns = ['pclass', 'sex', 'embarked'], drop_first = True)"
   ]
  },
  {
   "cell_type": "code",
   "execution_count": 522,
   "id": "cc000fb5",
   "metadata": {},
   "outputs": [
    {
     "data": {
      "text/html": [
       "<div>\n",
       "<style scoped>\n",
       "    .dataframe tbody tr th:only-of-type {\n",
       "        vertical-align: middle;\n",
       "    }\n",
       "\n",
       "    .dataframe tbody tr th {\n",
       "        vertical-align: top;\n",
       "    }\n",
       "\n",
       "    .dataframe thead th {\n",
       "        text-align: right;\n",
       "    }\n",
       "</style>\n",
       "<table border=\"1\" class=\"dataframe\">\n",
       "  <thead>\n",
       "    <tr style=\"text-align: right;\">\n",
       "      <th></th>\n",
       "      <th>age</th>\n",
       "      <th>sibsp</th>\n",
       "      <th>parch</th>\n",
       "      <th>fare</th>\n",
       "      <th>pclass_2</th>\n",
       "      <th>pclass_3</th>\n",
       "      <th>sex_male</th>\n",
       "      <th>embarked_Q</th>\n",
       "      <th>embarked_S</th>\n",
       "    </tr>\n",
       "  </thead>\n",
       "  <tbody>\n",
       "    <tr>\n",
       "      <th>390</th>\n",
       "      <td>-1.158903</td>\n",
       "      <td>0.810822</td>\n",
       "      <td>-0.529709</td>\n",
       "      <td>0.582285</td>\n",
       "      <td>True</td>\n",
       "      <td>False</td>\n",
       "      <td>False</td>\n",
       "      <td>False</td>\n",
       "      <td>False</td>\n",
       "    </tr>\n",
       "    <tr>\n",
       "      <th>839</th>\n",
       "      <td>1.289867</td>\n",
       "      <td>0.810822</td>\n",
       "      <td>-0.529709</td>\n",
       "      <td>1.415699</td>\n",
       "      <td>False</td>\n",
       "      <td>False</td>\n",
       "      <td>True</td>\n",
       "      <td>False</td>\n",
       "      <td>True</td>\n",
       "    </tr>\n",
       "    <tr>\n",
       "      <th>786</th>\n",
       "      <td>0.830723</td>\n",
       "      <td>-0.655794</td>\n",
       "      <td>-0.529709</td>\n",
       "      <td>-0.375510</td>\n",
       "      <td>True</td>\n",
       "      <td>False</td>\n",
       "      <td>False</td>\n",
       "      <td>False</td>\n",
       "      <td>True</td>\n",
       "    </tr>\n",
       "    <tr>\n",
       "      <th>381</th>\n",
       "      <td>-0.087566</td>\n",
       "      <td>-0.655794</td>\n",
       "      <td>-0.529709</td>\n",
       "      <td>0.617688</td>\n",
       "      <td>False</td>\n",
       "      <td>False</td>\n",
       "      <td>True</td>\n",
       "      <td>False</td>\n",
       "      <td>True</td>\n",
       "    </tr>\n",
       "    <tr>\n",
       "      <th>132</th>\n",
       "      <td>1.978584</td>\n",
       "      <td>-0.655794</td>\n",
       "      <td>-0.529709</td>\n",
       "      <td>0.487796</td>\n",
       "      <td>False</td>\n",
       "      <td>False</td>\n",
       "      <td>False</td>\n",
       "      <td>False</td>\n",
       "      <td>False</td>\n",
       "    </tr>\n",
       "    <tr>\n",
       "      <th>...</th>\n",
       "      <td>...</td>\n",
       "      <td>...</td>\n",
       "      <td>...</td>\n",
       "      <td>...</td>\n",
       "      <td>...</td>\n",
       "      <td>...</td>\n",
       "      <td>...</td>\n",
       "      <td>...</td>\n",
       "      <td>...</td>\n",
       "    </tr>\n",
       "    <tr>\n",
       "      <th>515</th>\n",
       "      <td>0.065482</td>\n",
       "      <td>-0.655794</td>\n",
       "      <td>-0.529709</td>\n",
       "      <td>0.489017</td>\n",
       "      <td>False</td>\n",
       "      <td>False</td>\n",
       "      <td>True</td>\n",
       "      <td>False</td>\n",
       "      <td>False</td>\n",
       "    </tr>\n",
       "    <tr>\n",
       "      <th>477</th>\n",
       "      <td>0.295054</td>\n",
       "      <td>0.810822</td>\n",
       "      <td>2.373339</td>\n",
       "      <td>0.489017</td>\n",
       "      <td>True</td>\n",
       "      <td>False</td>\n",
       "      <td>False</td>\n",
       "      <td>False</td>\n",
       "      <td>True</td>\n",
       "    </tr>\n",
       "    <tr>\n",
       "      <th>755</th>\n",
       "      <td>0.448102</td>\n",
       "      <td>-0.655794</td>\n",
       "      <td>-0.529709</td>\n",
       "      <td>-0.920332</td>\n",
       "      <td>False</td>\n",
       "      <td>True</td>\n",
       "      <td>True</td>\n",
       "      <td>False</td>\n",
       "      <td>True</td>\n",
       "    </tr>\n",
       "    <tr>\n",
       "      <th>726</th>\n",
       "      <td>1.136819</td>\n",
       "      <td>-0.655794</td>\n",
       "      <td>-0.529709</td>\n",
       "      <td>-0.916395</td>\n",
       "      <td>False</td>\n",
       "      <td>True</td>\n",
       "      <td>True</td>\n",
       "      <td>False</td>\n",
       "      <td>True</td>\n",
       "    </tr>\n",
       "    <tr>\n",
       "      <th>636</th>\n",
       "      <td>0.218530</td>\n",
       "      <td>0.810822</td>\n",
       "      <td>-0.529709</td>\n",
       "      <td>0.413566</td>\n",
       "      <td>True</td>\n",
       "      <td>False</td>\n",
       "      <td>True</td>\n",
       "      <td>False</td>\n",
       "      <td>True</td>\n",
       "    </tr>\n",
       "  </tbody>\n",
       "</table>\n",
       "<p>596 rows × 9 columns</p>\n",
       "</div>"
      ],
      "text/plain": [
       "          age     sibsp     parch      fare  pclass_2  pclass_3  sex_male  \\\n",
       "390 -1.158903  0.810822 -0.529709  0.582285      True     False     False   \n",
       "839  1.289867  0.810822 -0.529709  1.415699     False     False      True   \n",
       "786  0.830723 -0.655794 -0.529709 -0.375510      True     False     False   \n",
       "381 -0.087566 -0.655794 -0.529709  0.617688     False     False      True   \n",
       "132  1.978584 -0.655794 -0.529709  0.487796     False     False     False   \n",
       "..        ...       ...       ...       ...       ...       ...       ...   \n",
       "515  0.065482 -0.655794 -0.529709  0.489017     False     False      True   \n",
       "477  0.295054  0.810822  2.373339  0.489017      True     False     False   \n",
       "755  0.448102 -0.655794 -0.529709 -0.920332     False      True      True   \n",
       "726  1.136819 -0.655794 -0.529709 -0.916395     False      True      True   \n",
       "636  0.218530  0.810822 -0.529709  0.413566      True     False      True   \n",
       "\n",
       "     embarked_Q  embarked_S  \n",
       "390       False       False  \n",
       "839       False        True  \n",
       "786       False        True  \n",
       "381       False        True  \n",
       "132       False       False  \n",
       "..          ...         ...  \n",
       "515       False       False  \n",
       "477       False        True  \n",
       "755       False        True  \n",
       "726       False        True  \n",
       "636       False        True  \n",
       "\n",
       "[596 rows x 9 columns]"
      ]
     },
     "execution_count": 522,
     "metadata": {},
     "output_type": "execute_result"
    }
   ],
   "source": [
    "x_train"
   ]
  },
  {
   "cell_type": "code",
   "execution_count": 523,
   "id": "856c9252",
   "metadata": {},
   "outputs": [
    {
     "data": {
      "text/html": [
       "<div>\n",
       "<style scoped>\n",
       "    .dataframe tbody tr th:only-of-type {\n",
       "        vertical-align: middle;\n",
       "    }\n",
       "\n",
       "    .dataframe tbody tr th {\n",
       "        vertical-align: top;\n",
       "    }\n",
       "\n",
       "    .dataframe thead th {\n",
       "        text-align: right;\n",
       "    }\n",
       "</style>\n",
       "<table border=\"1\" class=\"dataframe\">\n",
       "  <thead>\n",
       "    <tr style=\"text-align: right;\">\n",
       "      <th></th>\n",
       "      <th>age</th>\n",
       "      <th>sibsp</th>\n",
       "      <th>parch</th>\n",
       "      <th>fare</th>\n",
       "      <th>pclass_2</th>\n",
       "      <th>pclass_3</th>\n",
       "      <th>sex_male</th>\n",
       "      <th>embarked_Q</th>\n",
       "      <th>embarked_S</th>\n",
       "    </tr>\n",
       "  </thead>\n",
       "  <tbody>\n",
       "    <tr>\n",
       "      <th>414</th>\n",
       "      <td>-0.470187</td>\n",
       "      <td>-0.655794</td>\n",
       "      <td>-0.529709</td>\n",
       "      <td>-0.753025</td>\n",
       "      <td>False</td>\n",
       "      <td>True</td>\n",
       "      <td>True</td>\n",
       "      <td>False</td>\n",
       "      <td>True</td>\n",
       "    </tr>\n",
       "    <tr>\n",
       "      <th>450</th>\n",
       "      <td>1.595964</td>\n",
       "      <td>0.810822</td>\n",
       "      <td>-0.529709</td>\n",
       "      <td>0.413566</td>\n",
       "      <td>True</td>\n",
       "      <td>False</td>\n",
       "      <td>True</td>\n",
       "      <td>False</td>\n",
       "      <td>True</td>\n",
       "    </tr>\n",
       "    <tr>\n",
       "      <th>182</th>\n",
       "      <td>-0.317138</td>\n",
       "      <td>-0.655794</td>\n",
       "      <td>-0.529709</td>\n",
       "      <td>-0.611843</td>\n",
       "      <td>True</td>\n",
       "      <td>False</td>\n",
       "      <td>True</td>\n",
       "      <td>False</td>\n",
       "      <td>True</td>\n",
       "    </tr>\n",
       "    <tr>\n",
       "      <th>178</th>\n",
       "      <td>0.065482</td>\n",
       "      <td>0.810822</td>\n",
       "      <td>2.373339</td>\n",
       "      <td>1.522843</td>\n",
       "      <td>False</td>\n",
       "      <td>False</td>\n",
       "      <td>True</td>\n",
       "      <td>False</td>\n",
       "      <td>True</td>\n",
       "    </tr>\n",
       "    <tr>\n",
       "      <th>89</th>\n",
       "      <td>0.677675</td>\n",
       "      <td>-0.655794</td>\n",
       "      <td>-0.529709</td>\n",
       "      <td>-1.040364</td>\n",
       "      <td>False</td>\n",
       "      <td>True</td>\n",
       "      <td>True</td>\n",
       "      <td>False</td>\n",
       "      <td>True</td>\n",
       "    </tr>\n",
       "    <tr>\n",
       "      <th>...</th>\n",
       "      <td>...</td>\n",
       "      <td>...</td>\n",
       "      <td>...</td>\n",
       "      <td>...</td>\n",
       "      <td>...</td>\n",
       "      <td>...</td>\n",
       "      <td>...</td>\n",
       "      <td>...</td>\n",
       "      <td>...</td>\n",
       "    </tr>\n",
       "    <tr>\n",
       "      <th>229</th>\n",
       "      <td>-0.087566</td>\n",
       "      <td>3.010747</td>\n",
       "      <td>2.373339</td>\n",
       "      <td>1.522843</td>\n",
       "      <td>False</td>\n",
       "      <td>False</td>\n",
       "      <td>False</td>\n",
       "      <td>False</td>\n",
       "      <td>True</td>\n",
       "    </tr>\n",
       "    <tr>\n",
       "      <th>311</th>\n",
       "      <td>-0.852807</td>\n",
       "      <td>2.277439</td>\n",
       "      <td>2.373339</td>\n",
       "      <td>1.522843</td>\n",
       "      <td>False</td>\n",
       "      <td>False</td>\n",
       "      <td>False</td>\n",
       "      <td>False</td>\n",
       "      <td>False</td>\n",
       "    </tr>\n",
       "    <tr>\n",
       "      <th>37</th>\n",
       "      <td>-1.235427</td>\n",
       "      <td>2.277439</td>\n",
       "      <td>2.373339</td>\n",
       "      <td>1.522843</td>\n",
       "      <td>False</td>\n",
       "      <td>False</td>\n",
       "      <td>True</td>\n",
       "      <td>False</td>\n",
       "      <td>False</td>\n",
       "    </tr>\n",
       "    <tr>\n",
       "      <th>371</th>\n",
       "      <td>0.142006</td>\n",
       "      <td>0.810822</td>\n",
       "      <td>0.921815</td>\n",
       "      <td>0.141296</td>\n",
       "      <td>False</td>\n",
       "      <td>True</td>\n",
       "      <td>False</td>\n",
       "      <td>False</td>\n",
       "      <td>True</td>\n",
       "    </tr>\n",
       "    <tr>\n",
       "      <th>783</th>\n",
       "      <td>-0.776283</td>\n",
       "      <td>0.810822</td>\n",
       "      <td>-0.529709</td>\n",
       "      <td>-0.135198</td>\n",
       "      <td>False</td>\n",
       "      <td>True</td>\n",
       "      <td>False</td>\n",
       "      <td>False</td>\n",
       "      <td>True</td>\n",
       "    </tr>\n",
       "  </tbody>\n",
       "</table>\n",
       "<p>150 rows × 9 columns</p>\n",
       "</div>"
      ],
      "text/plain": [
       "          age     sibsp     parch      fare  pclass_2  pclass_3  sex_male  \\\n",
       "414 -0.470187 -0.655794 -0.529709 -0.753025     False      True      True   \n",
       "450  1.595964  0.810822 -0.529709  0.413566      True     False      True   \n",
       "182 -0.317138 -0.655794 -0.529709 -0.611843      True     False      True   \n",
       "178  0.065482  0.810822  2.373339  1.522843     False     False      True   \n",
       "89   0.677675 -0.655794 -0.529709 -1.040364     False      True      True   \n",
       "..        ...       ...       ...       ...       ...       ...       ...   \n",
       "229 -0.087566  3.010747  2.373339  1.522843     False     False     False   \n",
       "311 -0.852807  2.277439  2.373339  1.522843     False     False     False   \n",
       "37  -1.235427  2.277439  2.373339  1.522843     False     False      True   \n",
       "371  0.142006  0.810822  0.921815  0.141296     False      True     False   \n",
       "783 -0.776283  0.810822 -0.529709 -0.135198     False      True     False   \n",
       "\n",
       "     embarked_Q  embarked_S  \n",
       "414       False        True  \n",
       "450       False        True  \n",
       "182       False        True  \n",
       "178       False        True  \n",
       "89        False        True  \n",
       "..          ...         ...  \n",
       "229       False        True  \n",
       "311       False       False  \n",
       "37        False       False  \n",
       "371       False        True  \n",
       "783       False        True  \n",
       "\n",
       "[150 rows x 9 columns]"
      ]
     },
     "execution_count": 523,
     "metadata": {},
     "output_type": "execute_result"
    }
   ],
   "source": [
    "x_test"
   ]
  },
  {
   "cell_type": "code",
   "execution_count": 524,
   "id": "f6f35107",
   "metadata": {},
   "outputs": [
    {
     "data": {
      "text/plain": [
       "age           0\n",
       "sibsp         0\n",
       "parch         0\n",
       "fare          0\n",
       "pclass_2      0\n",
       "pclass_3      0\n",
       "sex_male      0\n",
       "embarked_Q    0\n",
       "embarked_S    0\n",
       "dtype: int64"
      ]
     },
     "execution_count": 524,
     "metadata": {},
     "output_type": "execute_result"
    }
   ],
   "source": [
    "x_train.isnull().sum()"
   ]
  },
  {
   "cell_type": "code",
   "execution_count": 526,
   "id": "634dfd0e",
   "metadata": {},
   "outputs": [
    {
     "data": {
      "text/plain": [
       "age           0\n",
       "sibsp         0\n",
       "parch         0\n",
       "fare          0\n",
       "pclass_2      0\n",
       "pclass_3      0\n",
       "sex_male      0\n",
       "embarked_Q    0\n",
       "embarked_S    0\n",
       "dtype: int64"
      ]
     },
     "execution_count": 526,
     "metadata": {},
     "output_type": "execute_result"
    }
   ],
   "source": [
    "x_test.isnull().sum()"
   ]
  },
  {
   "cell_type": "code",
   "execution_count": 527,
   "id": "88eab047",
   "metadata": {},
   "outputs": [
    {
     "data": {
      "text/plain": [
       "(596, 9)"
      ]
     },
     "execution_count": 527,
     "metadata": {},
     "output_type": "execute_result"
    }
   ],
   "source": [
    "x_train.shape"
   ]
  },
  {
   "cell_type": "code",
   "execution_count": 528,
   "id": "6ac314f0",
   "metadata": {},
   "outputs": [
    {
     "data": {
      "text/plain": [
       "(150, 9)"
      ]
     },
     "execution_count": 528,
     "metadata": {},
     "output_type": "execute_result"
    }
   ],
   "source": [
    "x_test.shape"
   ]
  }
 ],
 "metadata": {
  "kernelspec": {
   "display_name": "ml-env",
   "language": "python",
   "name": "python3"
  },
  "language_info": {
   "codemirror_mode": {
    "name": "ipython",
    "version": 3
   },
   "file_extension": ".py",
   "mimetype": "text/x-python",
   "name": "python",
   "nbconvert_exporter": "python",
   "pygments_lexer": "ipython3",
   "version": "3.10.16"
  }
 },
 "nbformat": 4,
 "nbformat_minor": 5
}
