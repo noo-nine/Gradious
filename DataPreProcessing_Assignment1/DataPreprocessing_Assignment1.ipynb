{
 "cells": [
  {
   "cell_type": "code",
   "execution_count": 100,
   "id": "e0834126",
   "metadata": {},
   "outputs": [],
   "source": [
    "import pandas as pd\n",
    "import numpy as np\n",
    "import seaborn as sns\n",
    "import matplotlib.pyplot as plt"
   ]
  },
  {
   "cell_type": "code",
   "execution_count": 101,
   "id": "4161750e",
   "metadata": {},
   "outputs": [],
   "source": [
    "health = pd.read_csv('healthcare_datasets.csv')"
   ]
  },
  {
   "cell_type": "code",
   "execution_count": 102,
   "id": "2630390d",
   "metadata": {},
   "outputs": [
    {
     "data": {
      "text/html": [
       "<div>\n",
       "<style scoped>\n",
       "    .dataframe tbody tr th:only-of-type {\n",
       "        vertical-align: middle;\n",
       "    }\n",
       "\n",
       "    .dataframe tbody tr th {\n",
       "        vertical-align: top;\n",
       "    }\n",
       "\n",
       "    .dataframe thead th {\n",
       "        text-align: right;\n",
       "    }\n",
       "</style>\n",
       "<table border=\"1\" class=\"dataframe\">\n",
       "  <thead>\n",
       "    <tr style=\"text-align: right;\">\n",
       "      <th></th>\n",
       "      <th>Patient_ID</th>\n",
       "      <th>Age</th>\n",
       "      <th>Gender</th>\n",
       "      <th>Blood_Pressure</th>\n",
       "      <th>Cholesterol</th>\n",
       "      <th>Condition</th>\n",
       "    </tr>\n",
       "  </thead>\n",
       "  <tbody>\n",
       "    <tr>\n",
       "      <th>0</th>\n",
       "      <td>0f5343ac-b858-4726-b8e6-d0e5a7cd73ff</td>\n",
       "      <td>84</td>\n",
       "      <td>Male</td>\n",
       "      <td>95</td>\n",
       "      <td>157</td>\n",
       "      <td>Hypertension</td>\n",
       "    </tr>\n",
       "    <tr>\n",
       "      <th>1</th>\n",
       "      <td>ff6cbae7-14d6-486d-a03b-c174dce2b9c0</td>\n",
       "      <td>40</td>\n",
       "      <td>Male</td>\n",
       "      <td>163</td>\n",
       "      <td>285</td>\n",
       "      <td>NaN</td>\n",
       "    </tr>\n",
       "    <tr>\n",
       "      <th>2</th>\n",
       "      <td>cc32f20a-c701-4398-85cc-30cfe5e7a62a</td>\n",
       "      <td>72</td>\n",
       "      <td>Male</td>\n",
       "      <td>NAN</td>\n",
       "      <td>168</td>\n",
       "      <td>NaN</td>\n",
       "    </tr>\n",
       "    <tr>\n",
       "      <th>3</th>\n",
       "      <td>93c316b3-c2ff-42a9-9895-7ce3e3d6cd8a</td>\n",
       "      <td>39</td>\n",
       "      <td>Male</td>\n",
       "      <td>118</td>\n",
       "      <td>288</td>\n",
       "      <td>Diabetes</td>\n",
       "    </tr>\n",
       "    <tr>\n",
       "      <th>4</th>\n",
       "      <td>044838d9-29a8-46da-8d74-18705c8df5d7</td>\n",
       "      <td>28</td>\n",
       "      <td>Female</td>\n",
       "      <td>128</td>\n",
       "      <td>229</td>\n",
       "      <td>Diabetes</td>\n",
       "    </tr>\n",
       "  </tbody>\n",
       "</table>\n",
       "</div>"
      ],
      "text/plain": [
       "                             Patient_ID Age  ... Cholesterol     Condition\n",
       "0  0f5343ac-b858-4726-b8e6-d0e5a7cd73ff  84  ...         157  Hypertension\n",
       "1  ff6cbae7-14d6-486d-a03b-c174dce2b9c0  40  ...         285           NaN\n",
       "2  cc32f20a-c701-4398-85cc-30cfe5e7a62a  72  ...         168           NaN\n",
       "3  93c316b3-c2ff-42a9-9895-7ce3e3d6cd8a  39  ...         288      Diabetes\n",
       "4  044838d9-29a8-46da-8d74-18705c8df5d7  28  ...         229      Diabetes\n",
       "\n",
       "[5 rows x 6 columns]"
      ]
     },
     "execution_count": 102,
     "metadata": {},
     "output_type": "execute_result"
    }
   ],
   "source": [
    "health.head()"
   ]
  },
  {
   "cell_type": "code",
   "execution_count": 103,
   "id": "ba3336a4",
   "metadata": {},
   "outputs": [],
   "source": [
    "# Condition \"None\" is imported as \"NaN\" in the pandas dataframe"
   ]
  },
  {
   "cell_type": "code",
   "execution_count": 104,
   "id": "b1c774af",
   "metadata": {},
   "outputs": [
    {
     "data": {
      "text/plain": [
       "(3021, 6)"
      ]
     },
     "execution_count": 104,
     "metadata": {},
     "output_type": "execute_result"
    }
   ],
   "source": [
    "health.shape"
   ]
  },
  {
   "cell_type": "markdown",
   "id": "ed69905d",
   "metadata": {},
   "source": [
    "## Removing Duplicates"
   ]
  },
  {
   "cell_type": "code",
   "execution_count": 105,
   "id": "25e32334",
   "metadata": {},
   "outputs": [
    {
     "data": {
      "text/plain": [
       "20"
      ]
     },
     "execution_count": 105,
     "metadata": {},
     "output_type": "execute_result"
    }
   ],
   "source": [
    "# total number of duplicates\n",
    "no_of_duplicates = int(health.duplicated().sum())\n",
    "no_of_duplicates"
   ]
  },
  {
   "cell_type": "code",
   "execution_count": 106,
   "id": "c937c0f8",
   "metadata": {},
   "outputs": [
    {
     "data": {
      "text/plain": [
       "(3001, 6)"
      ]
     },
     "execution_count": 106,
     "metadata": {},
     "output_type": "execute_result"
    }
   ],
   "source": [
    "health = health.drop_duplicates()\n",
    "health.shape"
   ]
  },
  {
   "cell_type": "code",
   "execution_count": 107,
   "id": "ed3d10db",
   "metadata": {},
   "outputs": [],
   "source": [
    "# removed 20 duplicate rows"
   ]
  },
  {
   "cell_type": "markdown",
   "id": "bc7037e7",
   "metadata": {},
   "source": [
    "## Handling Missing Values"
   ]
  },
  {
   "cell_type": "code",
   "execution_count": 108,
   "id": "4d724e55",
   "metadata": {},
   "outputs": [],
   "source": [
    "# Patient_ID is not required to train the model\n",
    "health = health.drop(columns = ['Patient_ID'])"
   ]
  },
  {
   "cell_type": "code",
   "execution_count": 109,
   "id": "69822015",
   "metadata": {},
   "outputs": [
    {
     "data": {
      "text/html": [
       "<div>\n",
       "<style scoped>\n",
       "    .dataframe tbody tr th:only-of-type {\n",
       "        vertical-align: middle;\n",
       "    }\n",
       "\n",
       "    .dataframe tbody tr th {\n",
       "        vertical-align: top;\n",
       "    }\n",
       "\n",
       "    .dataframe thead th {\n",
       "        text-align: right;\n",
       "    }\n",
       "</style>\n",
       "<table border=\"1\" class=\"dataframe\">\n",
       "  <thead>\n",
       "    <tr style=\"text-align: right;\">\n",
       "      <th></th>\n",
       "      <th>Age</th>\n",
       "      <th>Gender</th>\n",
       "      <th>Blood_Pressure</th>\n",
       "      <th>Cholesterol</th>\n",
       "      <th>Condition</th>\n",
       "    </tr>\n",
       "  </thead>\n",
       "  <tbody>\n",
       "    <tr>\n",
       "      <th>0</th>\n",
       "      <td>84</td>\n",
       "      <td>Male</td>\n",
       "      <td>95</td>\n",
       "      <td>157</td>\n",
       "      <td>Hypertension</td>\n",
       "    </tr>\n",
       "    <tr>\n",
       "      <th>1</th>\n",
       "      <td>40</td>\n",
       "      <td>Male</td>\n",
       "      <td>163</td>\n",
       "      <td>285</td>\n",
       "      <td>NaN</td>\n",
       "    </tr>\n",
       "    <tr>\n",
       "      <th>2</th>\n",
       "      <td>72</td>\n",
       "      <td>Male</td>\n",
       "      <td>NAN</td>\n",
       "      <td>168</td>\n",
       "      <td>NaN</td>\n",
       "    </tr>\n",
       "    <tr>\n",
       "      <th>3</th>\n",
       "      <td>39</td>\n",
       "      <td>Male</td>\n",
       "      <td>118</td>\n",
       "      <td>288</td>\n",
       "      <td>Diabetes</td>\n",
       "    </tr>\n",
       "    <tr>\n",
       "      <th>4</th>\n",
       "      <td>28</td>\n",
       "      <td>Female</td>\n",
       "      <td>128</td>\n",
       "      <td>229</td>\n",
       "      <td>Diabetes</td>\n",
       "    </tr>\n",
       "    <tr>\n",
       "      <th>5</th>\n",
       "      <td>60</td>\n",
       "      <td>Male</td>\n",
       "      <td>91</td>\n",
       "      <td>156</td>\n",
       "      <td>NaN</td>\n",
       "    </tr>\n",
       "    <tr>\n",
       "      <th>6</th>\n",
       "      <td>18</td>\n",
       "      <td>Female</td>\n",
       "      <td>117</td>\n",
       "      <td>119</td>\n",
       "      <td>NaN</td>\n",
       "    </tr>\n",
       "    <tr>\n",
       "      <th>7</th>\n",
       "      <td>45</td>\n",
       "      <td>Female</td>\n",
       "      <td>101</td>\n",
       "      <td>170</td>\n",
       "      <td>Hypertension</td>\n",
       "    </tr>\n",
       "    <tr>\n",
       "      <th>8</th>\n",
       "      <td>77</td>\n",
       "      <td>Female</td>\n",
       "      <td>99</td>\n",
       "      <td>278</td>\n",
       "      <td>Hypertension</td>\n",
       "    </tr>\n",
       "    <tr>\n",
       "      <th>9</th>\n",
       "      <td>90</td>\n",
       "      <td>Male</td>\n",
       "      <td>120</td>\n",
       "      <td>133</td>\n",
       "      <td>NaN</td>\n",
       "    </tr>\n",
       "    <tr>\n",
       "      <th>10</th>\n",
       "      <td>52</td>\n",
       "      <td>Female</td>\n",
       "      <td>114</td>\n",
       "      <td>118</td>\n",
       "      <td>Diabetes</td>\n",
       "    </tr>\n",
       "    <tr>\n",
       "      <th>11</th>\n",
       "      <td>90</td>\n",
       "      <td>NAN</td>\n",
       "      <td>170</td>\n",
       "      <td>130</td>\n",
       "      <td>Diabetes</td>\n",
       "    </tr>\n",
       "    <tr>\n",
       "      <th>12</th>\n",
       "      <td>18</td>\n",
       "      <td>Male</td>\n",
       "      <td>90</td>\n",
       "      <td>284</td>\n",
       "      <td>Diabetes</td>\n",
       "    </tr>\n",
       "    <tr>\n",
       "      <th>13</th>\n",
       "      <td>89</td>\n",
       "      <td>Male</td>\n",
       "      <td>172</td>\n",
       "      <td>159</td>\n",
       "      <td>Diabetes</td>\n",
       "    </tr>\n",
       "    <tr>\n",
       "      <th>14</th>\n",
       "      <td>18</td>\n",
       "      <td>Male</td>\n",
       "      <td>125</td>\n",
       "      <td>265</td>\n",
       "      <td>Diabetes</td>\n",
       "    </tr>\n",
       "  </tbody>\n",
       "</table>\n",
       "</div>"
      ],
      "text/plain": [
       "   Age  Gender Blood_Pressure Cholesterol     Condition\n",
       "0   84    Male             95         157  Hypertension\n",
       "1   40    Male            163         285           NaN\n",
       "2   72    Male            NAN         168           NaN\n",
       "3   39    Male            118         288      Diabetes\n",
       "4   28  Female            128         229      Diabetes\n",
       "5   60    Male             91         156           NaN\n",
       "6   18  Female            117         119           NaN\n",
       "7   45  Female            101         170  Hypertension\n",
       "8   77  Female             99         278  Hypertension\n",
       "9   90    Male            120         133           NaN\n",
       "10  52  Female            114         118      Diabetes\n",
       "11  90     NAN            170         130      Diabetes\n",
       "12  18    Male             90         284      Diabetes\n",
       "13  89    Male            172         159      Diabetes\n",
       "14  18    Male            125         265      Diabetes"
      ]
     },
     "execution_count": 109,
     "metadata": {},
     "output_type": "execute_result"
    }
   ],
   "source": [
    "health.head(15)"
   ]
  },
  {
   "cell_type": "code",
   "execution_count": 110,
   "id": "5f5e4f7e",
   "metadata": {},
   "outputs": [
    {
     "data": {
      "text/plain": [
       "['Hypertension', nan, 'Diabetes']"
      ]
     },
     "execution_count": 110,
     "metadata": {},
     "output_type": "execute_result"
    }
   ],
   "source": [
    "list(health['Condition'].unique())"
   ]
  },
  {
   "cell_type": "code",
   "execution_count": 111,
   "id": "faee4e22",
   "metadata": {},
   "outputs": [
    {
     "name": "stderr",
     "output_type": "stream",
     "text": [
      "C:\\Users\\Jakkala\\AppData\\Local\\Temp\\ipykernel_10400\\1721303609.py:1: FutureWarning: A value is trying to be set on a copy of a DataFrame or Series through chained assignment using an inplace method.\n",
      "The behavior will change in pandas 3.0. This inplace method will never work because the intermediate object on which we are setting values always behaves as a copy.\n",
      "\n",
      "For example, when doing 'df[col].method(value, inplace=True)', try using 'df.method({col: value}, inplace=True)' or df[col] = df[col].method(value) instead, to perform the operation inplace on the original object.\n",
      "\n",
      "\n",
      "  health['Condition'].fillna('No Condition', inplace = True)\n"
     ]
    }
   ],
   "source": [
    "health['Condition'].fillna('No Condition', inplace = True)"
   ]
  },
  {
   "cell_type": "code",
   "execution_count": 112,
   "id": "ab03fe05",
   "metadata": {},
   "outputs": [],
   "source": [
    "# there are missing values with \"NAN\" which is not considered as null"
   ]
  },
  {
   "cell_type": "code",
   "execution_count": 113,
   "id": "2ee846d2",
   "metadata": {},
   "outputs": [],
   "source": [
    "health.replace(\"NAN\", np.nan, inplace = True)"
   ]
  },
  {
   "cell_type": "code",
   "execution_count": 114,
   "id": "00119ac3",
   "metadata": {},
   "outputs": [
    {
     "data": {
      "text/plain": [
       "Age               2\n",
       "Gender            4\n",
       "Blood_Pressure    3\n",
       "Cholesterol       2\n",
       "Condition         0\n",
       "dtype: int64"
      ]
     },
     "execution_count": 114,
     "metadata": {},
     "output_type": "execute_result"
    }
   ],
   "source": [
    "health.isnull().sum()"
   ]
  },
  {
   "cell_type": "code",
   "execution_count": 115,
   "id": "1cec10b1",
   "metadata": {},
   "outputs": [
    {
     "data": {
      "text/plain": [
       "11"
      ]
     },
     "execution_count": 115,
     "metadata": {},
     "output_type": "execute_result"
    }
   ],
   "source": [
    "int(health.isnull().sum().sum())"
   ]
  },
  {
   "cell_type": "code",
   "execution_count": 116,
   "id": "af44129a",
   "metadata": {},
   "outputs": [],
   "source": [
    "#percentage_missing = (health.isnull().sum().sum() / health.shape[0]) * 100\n",
    "#float(percentage_missing)"
   ]
  },
  {
   "cell_type": "code",
   "execution_count": 117,
   "id": "42c16b2d",
   "metadata": {},
   "outputs": [],
   "source": [
    "# we need to impute the missing values"
   ]
  },
  {
   "cell_type": "markdown",
   "id": "765ab0e9",
   "metadata": {},
   "source": [
    "## Data Splitting"
   ]
  },
  {
   "cell_type": "code",
   "execution_count": 118,
   "id": "4e28fbf8",
   "metadata": {},
   "outputs": [],
   "source": [
    "x = health.drop(columns = ['Condition'])\n",
    "y = health['Condition']"
   ]
  },
  {
   "cell_type": "code",
   "execution_count": 119,
   "id": "c6ca2980",
   "metadata": {},
   "outputs": [],
   "source": [
    "from sklearn.model_selection import train_test_split\n",
    "x_train, x_test, y_train, y_test = train_test_split(x, y, test_size = 0.2, random_state = 21)"
   ]
  },
  {
   "cell_type": "code",
   "execution_count": 120,
   "id": "90a737bd",
   "metadata": {},
   "outputs": [
    {
     "data": {
      "text/plain": [
       "(2400, 4)"
      ]
     },
     "execution_count": 120,
     "metadata": {},
     "output_type": "execute_result"
    }
   ],
   "source": [
    "x_train.shape"
   ]
  },
  {
   "cell_type": "code",
   "execution_count": 121,
   "id": "6ea21d4e",
   "metadata": {},
   "outputs": [
    {
     "data": {
      "text/plain": [
       "(601, 4)"
      ]
     },
     "execution_count": 121,
     "metadata": {},
     "output_type": "execute_result"
    }
   ],
   "source": [
    "x_test.shape"
   ]
  },
  {
   "cell_type": "code",
   "execution_count": 122,
   "id": "def61122",
   "metadata": {},
   "outputs": [],
   "source": [
    "num_columns = ['Age', 'Blood_Pressure', 'Cholesterol']\n",
    "cat_columns = ['Gender']"
   ]
  },
  {
   "cell_type": "code",
   "execution_count": 123,
   "id": "687378f6",
   "metadata": {},
   "outputs": [],
   "source": [
    "#imputing the numeric columns with median\n",
    "# imputing the categorical columns with mode"
   ]
  },
  {
   "cell_type": "code",
   "execution_count": 124,
   "id": "1ba19252",
   "metadata": {},
   "outputs": [],
   "source": [
    "from sklearn.impute import SimpleImputer\n",
    "num_imputer = SimpleImputer(strategy = 'median')\n",
    "x_train[num_columns] = num_imputer.fit_transform(x_train[num_columns])\n",
    "x_test[num_columns] = num_imputer.transform(x_test[num_columns])\n",
    "\n",
    "cat_imputer = SimpleImputer(strategy = 'most_frequent')\n",
    "x_train[cat_columns] = cat_imputer.fit_transform(x_train[cat_columns])\n",
    "x_test[cat_columns] = cat_imputer.transform(x_test[cat_columns])"
   ]
  },
  {
   "cell_type": "code",
   "execution_count": 125,
   "id": "3f63fc2b",
   "metadata": {},
   "outputs": [
    {
     "data": {
      "text/plain": [
       "(2400, 4)"
      ]
     },
     "execution_count": 125,
     "metadata": {},
     "output_type": "execute_result"
    }
   ],
   "source": [
    "x_train.shape"
   ]
  },
  {
   "cell_type": "code",
   "execution_count": 126,
   "id": "c75bf75f",
   "metadata": {},
   "outputs": [
    {
     "data": {
      "text/plain": [
       "Age               0\n",
       "Gender            0\n",
       "Blood_Pressure    0\n",
       "Cholesterol       0\n",
       "dtype: int64"
      ]
     },
     "execution_count": 126,
     "metadata": {},
     "output_type": "execute_result"
    }
   ],
   "source": [
    "#check for missing values\n",
    "x_train.isnull().sum()"
   ]
  },
  {
   "cell_type": "code",
   "execution_count": 127,
   "id": "64fa016c",
   "metadata": {},
   "outputs": [
    {
     "data": {
      "text/plain": [
       "Age               0\n",
       "Gender            0\n",
       "Blood_Pressure    0\n",
       "Cholesterol       0\n",
       "dtype: int64"
      ]
     },
     "execution_count": 127,
     "metadata": {},
     "output_type": "execute_result"
    }
   ],
   "source": [
    "x_test.isnull().sum()"
   ]
  },
  {
   "cell_type": "markdown",
   "id": "6c1b914a",
   "metadata": {},
   "source": [
    "## Handling Outliers"
   ]
  },
  {
   "cell_type": "code",
   "execution_count": 128,
   "id": "a1eaf58b",
   "metadata": {},
   "outputs": [],
   "source": [
    "# handling outliers using IQR method\n",
    "# calculating the IQR bounds\n",
    "for col in num_columns:\n",
    "    q1 = x_train[col].quantile(0.25)\n",
    "    q3 = x_train[col].quantile(0.75)\n",
    "    iqr = q3 - q1\n",
    "    lower_bound = q1 - 1.5 * iqr\n",
    "    upper_bound = q3 + 1.5 * iqr\n",
    "    # capping the outliers in the training set\n",
    "    x_train[col] = np.clip(x_train[col], lower_bound, upper_bound)\n",
    "    # capping the outliers in the test set\n",
    "    x_test[col] = np.clip(x_test[col], lower_bound, upper_bound)"
   ]
  },
  {
   "cell_type": "markdown",
   "id": "1b1ac9c7",
   "metadata": {},
   "source": [
    "## Data Transformation"
   ]
  },
  {
   "cell_type": "code",
   "execution_count": 129,
   "id": "6d5edaa7",
   "metadata": {},
   "outputs": [
    {
     "name": "stdout",
     "output_type": "stream",
     "text": [
      "Age: skewness = 0.005263680140173695\n",
      "Blood_Pressure: skewness = -0.03304568058052449\n",
      "Cholesterol: skewness = 0.0766066698333047\n"
     ]
    }
   ],
   "source": [
    "# checking skweness of the numeric columns\n",
    "for col in num_columns:\n",
    "    print(f\"{col}: skewness = {x_train[col].skew()}\")"
   ]
  },
  {
   "cell_type": "code",
   "execution_count": 130,
   "id": "8b46e283",
   "metadata": {},
   "outputs": [],
   "source": [
    "# skewness is close to 0\n",
    "# so there is no need to transform the data"
   ]
  },
  {
   "cell_type": "markdown",
   "id": "8209480e",
   "metadata": {},
   "source": [
    "## Data Scaling"
   ]
  },
  {
   "cell_type": "code",
   "execution_count": 131,
   "id": "648b0b84",
   "metadata": {},
   "outputs": [],
   "source": [
    "# we will scale the data now using StandardScaler"
   ]
  },
  {
   "cell_type": "code",
   "execution_count": 132,
   "id": "4a073bac",
   "metadata": {},
   "outputs": [],
   "source": [
    "from sklearn.preprocessing import StandardScaler\n",
    "scaler = StandardScaler()\n",
    "x_train[num_columns] = scaler.fit_transform(x_train[num_columns])\n",
    "x_test[num_columns] = scaler.transform(x_test[num_columns])"
   ]
  },
  {
   "cell_type": "code",
   "execution_count": 133,
   "id": "aa9acb86",
   "metadata": {},
   "outputs": [
    {
     "data": {
      "text/html": [
       "<div>\n",
       "<style scoped>\n",
       "    .dataframe tbody tr th:only-of-type {\n",
       "        vertical-align: middle;\n",
       "    }\n",
       "\n",
       "    .dataframe tbody tr th {\n",
       "        vertical-align: top;\n",
       "    }\n",
       "\n",
       "    .dataframe thead th {\n",
       "        text-align: right;\n",
       "    }\n",
       "</style>\n",
       "<table border=\"1\" class=\"dataframe\">\n",
       "  <thead>\n",
       "    <tr style=\"text-align: right;\">\n",
       "      <th></th>\n",
       "      <th>Age</th>\n",
       "      <th>Gender</th>\n",
       "      <th>Blood_Pressure</th>\n",
       "      <th>Cholesterol</th>\n",
       "    </tr>\n",
       "  </thead>\n",
       "  <tbody>\n",
       "    <tr>\n",
       "      <th>157</th>\n",
       "      <td>-0.628928</td>\n",
       "      <td>Female</td>\n",
       "      <td>-1.406430</td>\n",
       "      <td>0.830976</td>\n",
       "    </tr>\n",
       "    <tr>\n",
       "      <th>1905</th>\n",
       "      <td>-1.154544</td>\n",
       "      <td>Female</td>\n",
       "      <td>1.441341</td>\n",
       "      <td>1.418183</td>\n",
       "    </tr>\n",
       "    <tr>\n",
       "      <th>543</th>\n",
       "      <td>1.234621</td>\n",
       "      <td>Female</td>\n",
       "      <td>0.926684</td>\n",
       "      <td>1.176392</td>\n",
       "    </tr>\n",
       "    <tr>\n",
       "      <th>1492</th>\n",
       "      <td>0.709005</td>\n",
       "      <td>Female</td>\n",
       "      <td>0.446337</td>\n",
       "      <td>-1.500579</td>\n",
       "    </tr>\n",
       "    <tr>\n",
       "      <th>804</th>\n",
       "      <td>-1.584594</td>\n",
       "      <td>Male</td>\n",
       "      <td>1.647204</td>\n",
       "      <td>1.280017</td>\n",
       "    </tr>\n",
       "    <tr>\n",
       "      <th>1063</th>\n",
       "      <td>0.804571</td>\n",
       "      <td>Female</td>\n",
       "      <td>-0.582978</td>\n",
       "      <td>-0.308895</td>\n",
       "    </tr>\n",
       "    <tr>\n",
       "      <th>4</th>\n",
       "      <td>-1.250111</td>\n",
       "      <td>Female</td>\n",
       "      <td>-0.102631</td>\n",
       "      <td>0.537373</td>\n",
       "    </tr>\n",
       "    <tr>\n",
       "      <th>2005</th>\n",
       "      <td>-1.727944</td>\n",
       "      <td>Female</td>\n",
       "      <td>-0.720220</td>\n",
       "      <td>1.193663</td>\n",
       "    </tr>\n",
       "    <tr>\n",
       "      <th>2256</th>\n",
       "      <td>1.282404</td>\n",
       "      <td>Female</td>\n",
       "      <td>0.343405</td>\n",
       "      <td>-1.586933</td>\n",
       "    </tr>\n",
       "    <tr>\n",
       "      <th>1186</th>\n",
       "      <td>1.616887</td>\n",
       "      <td>Male</td>\n",
       "      <td>-1.646603</td>\n",
       "      <td>1.262746</td>\n",
       "    </tr>\n",
       "  </tbody>\n",
       "</table>\n",
       "</div>"
      ],
      "text/plain": [
       "           Age  Gender  Blood_Pressure  Cholesterol\n",
       "157  -0.628928  Female       -1.406430     0.830976\n",
       "1905 -1.154544  Female        1.441341     1.418183\n",
       "543   1.234621  Female        0.926684     1.176392\n",
       "1492  0.709005  Female        0.446337    -1.500579\n",
       "804  -1.584594    Male        1.647204     1.280017\n",
       "1063  0.804571  Female       -0.582978    -0.308895\n",
       "4    -1.250111  Female       -0.102631     0.537373\n",
       "2005 -1.727944  Female       -0.720220     1.193663\n",
       "2256  1.282404  Female        0.343405    -1.586933\n",
       "1186  1.616887    Male       -1.646603     1.262746"
      ]
     },
     "execution_count": 133,
     "metadata": {},
     "output_type": "execute_result"
    }
   ],
   "source": [
    "x_train.head(10)"
   ]
  },
  {
   "cell_type": "code",
   "execution_count": 134,
   "id": "094475b5",
   "metadata": {},
   "outputs": [
    {
     "data": {
      "text/html": [
       "<div>\n",
       "<style scoped>\n",
       "    .dataframe tbody tr th:only-of-type {\n",
       "        vertical-align: middle;\n",
       "    }\n",
       "\n",
       "    .dataframe tbody tr th {\n",
       "        vertical-align: top;\n",
       "    }\n",
       "\n",
       "    .dataframe thead th {\n",
       "        text-align: right;\n",
       "    }\n",
       "</style>\n",
       "<table border=\"1\" class=\"dataframe\">\n",
       "  <thead>\n",
       "    <tr style=\"text-align: right;\">\n",
       "      <th></th>\n",
       "      <th>Age</th>\n",
       "      <th>Gender</th>\n",
       "      <th>Blood_Pressure</th>\n",
       "      <th>Cholesterol</th>\n",
       "    </tr>\n",
       "  </thead>\n",
       "  <tbody>\n",
       "    <tr>\n",
       "      <th>485</th>\n",
       "      <td>-0.390011</td>\n",
       "      <td>Female</td>\n",
       "      <td>0.137542</td>\n",
       "      <td>-1.068810</td>\n",
       "    </tr>\n",
       "    <tr>\n",
       "      <th>924</th>\n",
       "      <td>0.804571</td>\n",
       "      <td>Female</td>\n",
       "      <td>-0.754531</td>\n",
       "      <td>1.487266</td>\n",
       "    </tr>\n",
       "    <tr>\n",
       "      <th>2356</th>\n",
       "      <td>1.473538</td>\n",
       "      <td>Male</td>\n",
       "      <td>1.304099</td>\n",
       "      <td>0.174687</td>\n",
       "    </tr>\n",
       "    <tr>\n",
       "      <th>1838</th>\n",
       "      <td>-1.584594</td>\n",
       "      <td>Female</td>\n",
       "      <td>0.755131</td>\n",
       "      <td>-1.293330</td>\n",
       "    </tr>\n",
       "    <tr>\n",
       "      <th>2847</th>\n",
       "      <td>0.087822</td>\n",
       "      <td>Female</td>\n",
       "      <td>0.583579</td>\n",
       "      <td>1.159121</td>\n",
       "    </tr>\n",
       "    <tr>\n",
       "      <th>331</th>\n",
       "      <td>-0.676711</td>\n",
       "      <td>Female</td>\n",
       "      <td>1.269788</td>\n",
       "      <td>1.452725</td>\n",
       "    </tr>\n",
       "    <tr>\n",
       "      <th>1682</th>\n",
       "      <td>-0.867844</td>\n",
       "      <td>Female</td>\n",
       "      <td>-1.166257</td>\n",
       "      <td>-0.654311</td>\n",
       "    </tr>\n",
       "    <tr>\n",
       "      <th>1942</th>\n",
       "      <td>-0.963411</td>\n",
       "      <td>Male</td>\n",
       "      <td>-0.205563</td>\n",
       "      <td>1.487266</td>\n",
       "    </tr>\n",
       "    <tr>\n",
       "      <th>1910</th>\n",
       "      <td>1.377971</td>\n",
       "      <td>Male</td>\n",
       "      <td>0.034611</td>\n",
       "      <td>-1.206976</td>\n",
       "    </tr>\n",
       "    <tr>\n",
       "      <th>510</th>\n",
       "      <td>0.040038</td>\n",
       "      <td>Male</td>\n",
       "      <td>-1.612293</td>\n",
       "      <td>-0.740665</td>\n",
       "    </tr>\n",
       "  </tbody>\n",
       "</table>\n",
       "</div>"
      ],
      "text/plain": [
       "           Age  Gender  Blood_Pressure  Cholesterol\n",
       "485  -0.390011  Female        0.137542    -1.068810\n",
       "924   0.804571  Female       -0.754531     1.487266\n",
       "2356  1.473538    Male        1.304099     0.174687\n",
       "1838 -1.584594  Female        0.755131    -1.293330\n",
       "2847  0.087822  Female        0.583579     1.159121\n",
       "331  -0.676711  Female        1.269788     1.452725\n",
       "1682 -0.867844  Female       -1.166257    -0.654311\n",
       "1942 -0.963411    Male       -0.205563     1.487266\n",
       "1910  1.377971    Male        0.034611    -1.206976\n",
       "510   0.040038    Male       -1.612293    -0.740665"
      ]
     },
     "execution_count": 134,
     "metadata": {},
     "output_type": "execute_result"
    }
   ],
   "source": [
    "x_test.head(10)"
   ]
  },
  {
   "cell_type": "markdown",
   "id": "2592a7d1",
   "metadata": {},
   "source": [
    "## Encoding"
   ]
  },
  {
   "cell_type": "code",
   "execution_count": null,
   "id": "7f9ef699",
   "metadata": {},
   "outputs": [],
   "source": [
    "# using one_hot encoding"
   ]
  },
  {
   "cell_type": "code",
   "execution_count": null,
   "id": "c05ab620",
   "metadata": {},
   "outputs": [],
   "source": [
    "x_train = pd.get_dummies(x_train, columns = cat_columns, drop_first = True)"
   ]
  },
  {
   "cell_type": "code",
   "execution_count": 136,
   "id": "850a8978",
   "metadata": {},
   "outputs": [],
   "source": [
    "x_test = pd.get_dummies(x_test, columns = cat_columns, drop_first = True)"
   ]
  },
  {
   "cell_type": "code",
   "execution_count": 137,
   "id": "725c5f61",
   "metadata": {},
   "outputs": [
    {
     "data": {
      "text/plain": [
       "(2400, 4)"
      ]
     },
     "execution_count": 137,
     "metadata": {},
     "output_type": "execute_result"
    }
   ],
   "source": [
    "x_train.shape"
   ]
  },
  {
   "cell_type": "code",
   "execution_count": 138,
   "id": "224f9449",
   "metadata": {},
   "outputs": [
    {
     "data": {
      "text/plain": [
       "(601, 4)"
      ]
     },
     "execution_count": 138,
     "metadata": {},
     "output_type": "execute_result"
    }
   ],
   "source": [
    "x_test.shape"
   ]
  },
  {
   "cell_type": "code",
   "execution_count": null,
   "id": "da974f0f",
   "metadata": {},
   "outputs": [],
   "source": [
    "# we did not loose any important columns during data preprocessing"
   ]
  }
 ],
 "metadata": {
  "kernelspec": {
   "display_name": "ml-env",
   "language": "python",
   "name": "python3"
  },
  "language_info": {
   "codemirror_mode": {
    "name": "ipython",
    "version": 3
   },
   "file_extension": ".py",
   "mimetype": "text/x-python",
   "name": "python",
   "nbconvert_exporter": "python",
   "pygments_lexer": "ipython3",
   "version": "3.10.16"
  }
 },
 "nbformat": 4,
 "nbformat_minor": 5
}
